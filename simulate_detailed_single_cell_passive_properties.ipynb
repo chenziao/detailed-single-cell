{
 "cells": [
  {
   "cell_type": "markdown",
   "id": "049aa4ca",
   "metadata": {},
   "source": [
    "## Setup model"
   ]
  },
  {
   "cell_type": "markdown",
   "id": "0ba4d1d9",
   "metadata": {},
   "source": [
    "### Select model"
   ]
  },
  {
   "cell_type": "code",
   "execution_count": 1,
   "id": "c8e6bcb8",
   "metadata": {},
   "outputs": [],
   "source": [
    "import numpy as np\n",
    "import pandas as pd\n",
    "import h5py\n",
    "\n",
    "# model_name = 'neuronal_model_496930324'\n",
    "# model_name = 'neuronal_model_497229089'\n",
    "model_name = 'neuronal_model_491766131'\n",
    "\n",
    "dynamics_params = model_name + '.json'\n",
    "morphology = model_name+'_rotate.swc'"
   ]
  },
  {
   "cell_type": "markdown",
   "id": "f10733ef",
   "metadata": {},
   "source": [
    "### Build bmtk network"
   ]
  },
  {
   "cell_type": "code",
   "execution_count": 2,
   "id": "b3aa9ca0",
   "metadata": {},
   "outputs": [],
   "source": [
    "from bmtk.builder.networks import NetworkBuilder\n",
    "\n",
    "net = NetworkBuilder('Cell')\n",
    "net.add_nodes(cell_name = 'Cell',\n",
    "              potental = 'exc',\n",
    "              model_type = 'biophysical',\n",
    "              model_template = 'ctdb:Biophys1.hoc',\n",
    "              model_processing = 'aibs_allactive',\n",
    "              dynamics_params = dynamics_params, #from allen database\n",
    "              morphology = morphology) # rotated swc file"
   ]
  },
  {
   "cell_type": "code",
   "execution_count": 3,
   "id": "d4db348c",
   "metadata": {},
   "outputs": [],
   "source": [
    "net.build()\n",
    "net.save_nodes(output_dir='network')"
   ]
  },
  {
   "cell_type": "markdown",
   "id": "17167453",
   "metadata": {},
   "source": [
    "### Build"
   ]
  },
  {
   "cell_type": "code",
   "execution_count": 4,
   "id": "bf82e2cd",
   "metadata": {},
   "outputs": [
    {
     "name": "stderr",
     "output_type": "stream",
     "text": [
      "ERROR:bmtk.utils.sim_setup:  Was unable to compile mechanism in D:\\reserch_temp\\detailed-single-cell\\sim_details\\components\\mechanisms\n"
     ]
    }
   ],
   "source": [
    "from bmtk.utils.sim_setup import build_env_bionet\n",
    "\n",
    "build_env_bionet(base_dir='sim_details',\n",
    "                 network_dir='network',\n",
    "                 tstop=300.0, dt=0.025,\n",
    "                 v_init=-90.0,             # use e_pas in dynamics_params file\n",
    "                 report_vars=['v'],\n",
    "#                  spikes_inputs=[('Source','sim_details/synaptic_input.csv')],\n",
    "                 config_file = 'config.json',\n",
    "                 current_clamp={       # Creates a step current from 500.0 ms to 1500.0 ms\n",
    "                    'amp': -0.010,\n",
    "                    'delay': 100.0,\n",
    "                    'duration': 150.0\n",
    "                },\n",
    "                 include_examples=True,    # Copies components files\n",
    "                 compile_mechanisms=True   # Will try to compile NEURON mechanisms\n",
    "                )"
   ]
  },
  {
   "cell_type": "markdown",
   "id": "cabd9df9",
   "metadata": {},
   "source": [
    "### Run bmtk"
   ]
  },
  {
   "cell_type": "code",
   "execution_count": 5,
   "id": "d0603141",
   "metadata": {},
   "outputs": [
    {
     "name": "stdout",
     "output_type": "stream",
     "text": [
      "2022-07-15 16:53:45,749 [INFO] Created log file\n"
     ]
    },
    {
     "name": "stderr",
     "output_type": "stream",
     "text": [
      "INFO:NEURONIOUtils:Created log file\n"
     ]
    },
    {
     "name": "stdout",
     "output_type": "stream",
     "text": [
      "2022-07-15 16:53:45,871 [INFO] Building cells.\n"
     ]
    },
    {
     "name": "stderr",
     "output_type": "stream",
     "text": [
      "INFO:NEURONIOUtils:Building cells.\n"
     ]
    },
    {
     "name": "stdout",
     "output_type": "stream",
     "text": [
      "2022-07-15 16:53:46,171 [INFO] Building recurrent connections\n"
     ]
    },
    {
     "name": "stderr",
     "output_type": "stream",
     "text": [
      "INFO:NEURONIOUtils:Building recurrent connections\n"
     ]
    }
   ],
   "source": [
    "from bmtk.simulator import bionet\n",
    "\n",
    "conf = bionet.Config.from_json('sim_details/config.json')\n",
    "conf.build_env()\n",
    "net = bionet.BioNetwork.from_config(conf)\n",
    "sim = bionet.BioSimulator.from_config(conf, network=net)"
   ]
  },
  {
   "cell_type": "markdown",
   "id": "63b218eb",
   "metadata": {},
   "source": [
    "#### Record axial current"
   ]
  },
  {
   "cell_type": "code",
   "execution_count": 6,
   "id": "9fdeee81",
   "metadata": {},
   "outputs": [],
   "source": [
    "# from utils.currents.somaaxialcurrent import Soma_Axial_Current\n",
    "\n",
    "# axial_current = Soma_Axial_Current(sim.net.get_cell_gid(0).get_section(0),record_t=True)"
   ]
  },
  {
   "cell_type": "code",
   "execution_count": 7,
   "id": "c7450d8c",
   "metadata": {},
   "outputs": [
    {
     "name": "stdout",
     "output_type": "stream",
     "text": [
      "2022-07-15 16:53:46,234 [INFO] Running simulation for 300.000 ms with the time step 0.025 ms\n"
     ]
    },
    {
     "name": "stderr",
     "output_type": "stream",
     "text": [
      "INFO:NEURONIOUtils:Running simulation for 300.000 ms with the time step 0.025 ms\n"
     ]
    },
    {
     "name": "stdout",
     "output_type": "stream",
     "text": [
      "2022-07-15 16:53:46,236 [INFO] Starting timestep: 0 at t_sim: 0.000 ms\n"
     ]
    },
    {
     "name": "stderr",
     "output_type": "stream",
     "text": [
      "INFO:NEURONIOUtils:Starting timestep: 0 at t_sim: 0.000 ms\n"
     ]
    },
    {
     "name": "stdout",
     "output_type": "stream",
     "text": [
      "2022-07-15 16:53:46,240 [INFO] Block save every 5000 steps\n"
     ]
    },
    {
     "name": "stderr",
     "output_type": "stream",
     "text": [
      "INFO:NEURONIOUtils:Block save every 5000 steps\n"
     ]
    },
    {
     "name": "stdout",
     "output_type": "stream",
     "text": [
      "2022-07-15 16:53:54,791 [INFO]     step:5000 t_sim:125.00 ms\n"
     ]
    },
    {
     "name": "stderr",
     "output_type": "stream",
     "text": [
      "INFO:NEURONIOUtils:    step:5000 t_sim:125.00 ms\n"
     ]
    },
    {
     "name": "stdout",
     "output_type": "stream",
     "text": [
      "2022-07-15 16:54:02,893 [INFO]     step:10000 t_sim:250.00 ms\n"
     ]
    },
    {
     "name": "stderr",
     "output_type": "stream",
     "text": [
      "INFO:NEURONIOUtils:    step:10000 t_sim:250.00 ms\n"
     ]
    },
    {
     "name": "stdout",
     "output_type": "stream",
     "text": [
      "2022-07-15 16:54:06,060 [INFO]     step:12000 t_sim:300.00 ms\n"
     ]
    },
    {
     "name": "stderr",
     "output_type": "stream",
     "text": [
      "INFO:NEURONIOUtils:    step:12000 t_sim:300.00 ms\n"
     ]
    },
    {
     "name": "stdout",
     "output_type": "stream",
     "text": [
      "2022-07-15 16:54:06,075 [INFO] Simulation completed in 19.84 seconds \n"
     ]
    },
    {
     "name": "stderr",
     "output_type": "stream",
     "text": [
      "INFO:NEURONIOUtils:Simulation completed in 19.84 seconds \n"
     ]
    }
   ],
   "source": [
    "sim.run()"
   ]
  },
  {
   "cell_type": "markdown",
   "id": "a9ee94f4",
   "metadata": {},
   "source": [
    "### Check Results"
   ]
  },
  {
   "cell_type": "code",
   "execution_count": 8,
   "id": "804607a0",
   "metadata": {},
   "outputs": [],
   "source": [
    "import h5py\n",
    "import numpy as np\n",
    "import pandas as pd\n",
    "import os\n",
    "\n",
    "outpath = 'sim_details/output/'"
   ]
  },
  {
   "cell_type": "markdown",
   "id": "bac86edf",
   "metadata": {},
   "source": [
    "#### Check membrane voltage"
   ]
  },
  {
   "cell_type": "code",
   "execution_count": 9,
   "id": "8a6e8b9f",
   "metadata": {},
   "outputs": [
    {
     "data": {
      "image/png": "[encoded data removed]",
      "text/plain": [
       "<Figure size 432x288 with 1 Axes>"
      ]
     },
     "metadata": {
      "needs_background": "light"
     },
     "output_type": "display_data"
    }
   ],
   "source": [
    "filename = 'v_report.h5'\n",
    "v_file = outpath + filename\n",
    "v_f = h5py.File(v_file,'r')\n",
    "\n",
    "V = v_f['report/Cell/data'][()]\n",
    "t = np.arange(*v_f['report/Cell/mapping/time']) # array of time\n",
    "\n",
    "import matplotlib.pyplot as plt\n",
    "%matplotlib inline\n",
    "\n",
    "plt.figure()\n",
    "plt.plot(t,V)\n",
    "plt.xlabel('time (ms)')\n",
    "plt.ylabel('membrane voltage (mV)')\n",
    "plt.show()"
   ]
  },
  {
   "cell_type": "markdown",
   "id": "72c80d0d",
   "metadata": {},
   "source": [
    "#### Calculate passive properties"
   ]
  },
  {
   "cell_type": "code",
   "execution_count": 10,
   "id": "361e1d07",
   "metadata": {},
   "outputs": [
    {
     "data": {
      "image/png": "[encoded data removed]",
      "text/plain": [
       "<Figure size 432x288 with 1 Axes>"
      ]
     },
     "metadata": {
      "needs_background": "light"
     },
     "output_type": "display_data"
    }
   ],
   "source": [
    "from utils.metrics.measure_passive_properties import measure_passive_properties\n",
    "%matplotlib inline\n",
    "\n",
    "plt.figure()\n",
    "Vrest, Rin, Tau = measure_passive_properties(V,t,sim._iclamps[0]._stim,ax=plt.gca())"
   ]
  },
  {
   "cell_type": "code",
   "execution_count": 11,
   "id": "f44c5e96",
   "metadata": {},
   "outputs": [
    {
     "data": {
      "text/plain": [
       "(-82.66099675797402, 91.51170988756974, 12.700000000000003)"
      ]
     },
     "execution_count": 11,
     "metadata": {},
     "output_type": "execute_result"
    }
   ],
   "source": [
    "Vrest, Rin, Tau"
   ]
  },
  {
   "cell_type": "code",
   "execution_count": null,
   "id": "d8377d77",
   "metadata": {},
   "outputs": [],
   "source": []
  },
  {
   "cell_type": "code",
   "execution_count": null,
   "id": "f19fb54f",
   "metadata": {},
   "outputs": [],
   "source": []
  }
 ],
 "metadata": {
  "kernelspec": {
   "display_name": "Python 3 (ipykernel)",
   "language": "python",
   "name": "python3"
  },
  "language_info": {
   "codemirror_mode": {
    "name": "ipython",
    "version": 3
   },
   "file_extension": ".py",
   "mimetype": "text/x-python",
   "name": "python",
   "nbconvert_exporter": "python",
   "pygments_lexer": "ipython3",
   "version": "3.7.4"
  }
 },
 "nbformat": 4,
 "nbformat_minor": 5
}
