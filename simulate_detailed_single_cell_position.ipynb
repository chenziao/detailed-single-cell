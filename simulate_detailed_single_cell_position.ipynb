{
 "cells": [
  {
   "cell_type": "markdown",
   "metadata": {},
   "source": [
    "## Setup model"
   ]
  },
  {
   "cell_type": "markdown",
   "metadata": {},
   "source": [
    "### Initialize electrode locations"
   ]
  },
  {
   "cell_type": "code",
   "execution_count": 1,
   "metadata": {},
   "outputs": [],
   "source": [
    "import numpy as np\n",
    "import pandas as pd\n",
    "import h5py\n",
    "\n",
    "# elec_pos = np.column_stack((np.zeros(96),np.linspace(-1900,1900,96),np.zeros(96)))\n",
    "\n",
    "# # save electrode position to file\n",
    "# elec_file = 'sim_details/linear_electrode.csv'\n",
    "# df = {'channel':np.arange(elec_pos.shape[0])}\n",
    "# df.update({x+'_pos':elec_pos[:,i] for i,x in enumerate(list('xyz'))})\n",
    "# df = pd.DataFrame(df)\n",
    "# df.to_csv(elec_file,sep=' ',index=False)\n",
    "\n",
    "with h5py.File('Electrode2D.h5', \"r\") as f:\n",
    "    elec_file = 'sim_details/linear_electrode.csv'  # It isn't linear but in order to not change configs I kept the name\n",
    "    elec_pos = np.hstack((f['coord'][:], np.zeros((384,1))))\n",
    "    df = {'channel':np.arange(elec_pos.shape[0])}\n",
    "    df.update({x+'_pos':elec_pos[:,i] for i,x in enumerate(list('xyz'))})\n",
    "    df = pd.DataFrame(df)\n",
    "    df.to_csv(elec_file,sep=' ',index=False)"
   ]
  },
  {
   "cell_type": "markdown",
   "metadata": {},
   "source": [
    "### Copy model files"
   ]
  },
  {
   "cell_type": "code",
   "execution_count": 2,
   "metadata": {},
   "outputs": [
    {
     "data": {
      "text/plain": [
       "'sim_details/components/biophysical_neuron_models/neuronal_model_496930324.json'"
      ]
     },
     "execution_count": 2,
     "metadata": {},
     "output_type": "execute_result"
    }
   ],
   "source": [
    "import os, shutil\n",
    "\n",
    "shutil.copy('rotate_morphology.swc','sim_details/components/morphologies')\n",
    "shutil.copy('neuronal_model_496930324.json','sim_details/components/biophysical_neuron_models')"
   ]
  },
  {
   "cell_type": "markdown",
   "metadata": {},
   "source": [
    "### Select translation distance and rotation angles, and convert to euler angles in bmtk"
   ]
  },
  {
   "cell_type": "code",
   "execution_count": 3,
   "metadata": {},
   "outputs": [],
   "source": [
    "import numpy as np\n",
    "from scipy.spatial.transform import Rotation as R\n",
    "\n",
    "x = 0\n",
    "y = 350\n",
    "z = 80\n",
    "theta = 0.3\n",
    "h = 0.2\n",
    "phi = 1.27\n",
    "\n",
    "Rot = R.from_euler('yxy',[theta,np.arccos(h),phi])\n",
    "rot_zyx = Rot.as_euler('zyx')"
   ]
  },
  {
   "cell_type": "markdown",
   "metadata": {},
   "source": [
    "### Build bmtk network"
   ]
  },
  {
   "cell_type": "code",
   "execution_count": 4,
   "metadata": {},
   "outputs": [],
   "source": [
    "from bmtk.builder.networks import NetworkBuilder\n",
    "\n",
    "net = NetworkBuilder('Cell')\n",
    "net.add_nodes(cell_name = 'Cell',\n",
    "              positions = np.array([[x,y,z]]),\n",
    "              rotation_angle_xaxis = rot_zyx[2], # rotation cell\n",
    "              rotation_angle_yaxis = rot_zyx[1],\n",
    "              rotation_angle_zaxis = rot_zyx[0],\n",
    "#               orientation=quaternion, # this option seems not implemented in bmtk\n",
    "              potental='exc',\n",
    "              model_type='biophysical',\n",
    "              model_template='ctdb:Biophys1.hoc',\n",
    "              model_processing='aibs_allactive',\n",
    "              dynamics_params='neuronal_model_496930324.json', #from allen database\n",
    "              morphology= 'rotate_morphology.swc') # rotated swc file"
   ]
  },
  {
   "cell_type": "code",
   "execution_count": 5,
   "metadata": {},
   "outputs": [],
   "source": [
    "net.build()\n",
    "net.save_nodes(output_dir='network')"
   ]
  },
  {
   "cell_type": "code",
   "execution_count": 6,
   "metadata": {},
   "outputs": [],
   "source": [
    "source = NetworkBuilder('Source')\n",
    "source.add_nodes(N=1,pop_name='Source',potential='exc',model_type='virtual')"
   ]
  },
  {
   "cell_type": "code",
   "execution_count": 7,
   "metadata": {},
   "outputs": [
    {
     "data": {
      "text/plain": [
       "<bmtk.builder.connection_map.ConnectionMap at 0x7f400f8154f0>"
      ]
     },
     "execution_count": 7,
     "metadata": {},
     "output_type": "execute_result"
    }
   ],
   "source": [
    "source.add_edges(source={'pop_name':'Source'},target=net.nodes(),\n",
    "                   connection_rule=1,\n",
    "                   syn_weight=0.05,\n",
    "                   delay=0.0,\n",
    "                   weight_function=None,\n",
    "                   target_sections=['soma'],\n",
    "                   distance_range=[0.0,1000.0],\n",
    "                   dynamics_params='AMPA_ExcToExc.json',\n",
    "                   model_template='exp2syn')"
   ]
  },
  {
   "cell_type": "code",
   "execution_count": 8,
   "metadata": {},
   "outputs": [],
   "source": [
    "source.build()\n",
    "source.save_nodes(output_dir='network')\n",
    "source.save_edges(output_dir='network')"
   ]
  },
  {
   "cell_type": "markdown",
   "metadata": {},
   "source": [
    "#### Synaptic input spike"
   ]
  },
  {
   "cell_type": "code",
   "execution_count": 9,
   "metadata": {},
   "outputs": [],
   "source": [
    "import pandas as pd\n",
    "\n",
    "spike = pd.DataFrame(data={'node_ids':[0],'timestamps':[10.0],'population':['Source']})\n",
    "spike.to_csv('sim_details/synaptic_input.csv',sep=' ',index=False)"
   ]
  },
  {
   "cell_type": "markdown",
   "metadata": {},
   "source": [
    "#### Build"
   ]
  },
  {
   "cell_type": "code",
   "execution_count": 10,
   "metadata": {},
   "outputs": [
    {
     "name": "stdout",
     "output_type": "stream",
     "text": [
      "/home/matt/PycharmProjects/detailed-single-cell/sim_details/components/mechanisms\n",
      "modfiles/CaDynamics.mod modfiles/Ca_HVA.mod modfiles/Ca_LVA.mod modfiles/Ih.mod modfiles/Im.mod modfiles/Im_v2.mod modfiles/Kd.mod modfiles/K_P.mod modfiles/K_T.mod modfiles/Kv2like.mod modfiles/Kv3_1.mod modfiles/Nap.mod modfiles/NaTa.mod modfiles/NaTs.mod modfiles/NaV.mod modfiles/SK.mod modfiles/vecevent.mod\n",
      "CaDynamics.mod Ca_HVA.mod Ca_LVA.mod Ih.mod Im.mod Im_v2.mod Kd.mod K_P.mod K_T.mod Kv2like.mod Kv3_1.mod Nap.mod NaTa.mod NaTs.mod NaV.mod SK.mod vecevent.mod\n",
      "mkdir -p x86_64\n",
      " -> \u001b[32mCompiling\u001b[0m mod_func.c\n",
      "x86_64-linux-gnu-gcc -O2   -I. -I..   -I/home/matt/PycharmProjects/detailed-single-cell/venv/lib/python3.8/site-packages/neuron/.data/include  -I/nrnwheel/openmpi/include -fPIC -c mod_func.c -o mod_func.o\n",
      " -> \u001b[32mNMODL\u001b[0m CaDynamics.mod\n",
      "MODLUNIT=/home/matt/PycharmProjects/detailed-single-cell/venv/lib/python3.8/site-packages/neuron/.data/share/nrn/lib/nrnunits.lib \\\n",
      "  /home/matt/PycharmProjects/detailed-single-cell/venv/lib/python3.8/site-packages/neuron/.data/bin/nocmodl CaDynamics.mod\n",
      " -> \u001b[32mNMODL\u001b[0m Ca_HVA.mod\n",
      "MODLUNIT=/home/matt/PycharmProjects/detailed-single-cell/venv/lib/python3.8/site-packages/neuron/.data/share/nrn/lib/nrnunits.lib \\\n",
      "  /home/matt/PycharmProjects/detailed-single-cell/venv/lib/python3.8/site-packages/neuron/.data/bin/nocmodl Ca_HVA.mod\n",
      " -> \u001b[32mNMODL\u001b[0m Ca_LVA.mod\n",
      "MODLUNIT=/home/matt/PycharmProjects/detailed-single-cell/venv/lib/python3.8/site-packages/neuron/.data/share/nrn/lib/nrnunits.lib \\\n",
      "  /home/matt/PycharmProjects/detailed-single-cell/venv/lib/python3.8/site-packages/neuron/.data/bin/nocmodl Ca_LVA.mod\n",
      " -> \u001b[32mNMODL\u001b[0m Ih.mod\n",
      " -> \u001b[32mNMODL\u001b[0m Im.mod\n",
      "MODLUNIT=/home/matt/PycharmProjects/detailed-single-cell/venv/lib/python3.8/site-packages/neuron/.data/share/nrn/lib/nrnunits.lib \\\n",
      "  /home/matt/PycharmProjects/detailed-single-cell/venv/lib/python3.8/site-packages/neuron/.data/bin/nocmodl Ih.mod\n",
      "MODLUNIT=/home/matt/PycharmProjects/detailed-single-cell/venv/lib/python3.8/site-packages/neuron/.data/share/nrn/lib/nrnunits.lib \\\n",
      "  /home/matt/PycharmProjects/detailed-single-cell/venv/lib/python3.8/site-packages/neuron/.data/bin/nocmodl Im.mod\n",
      " -> \u001b[32mNMODL\u001b[0m Im_v2.mod\n",
      "MODLUNIT=/home/matt/PycharmProjects/detailed-single-cell/venv/lib/python3.8/site-packages/neuron/.data/share/nrn/lib/nrnunits.lib \\\n",
      "  /home/matt/PycharmProjects/detailed-single-cell/venv/lib/python3.8/site-packages/neuron/.data/bin/nocmodl Im_v2.mod\n",
      " -> \u001b[32mNMODL\u001b[0m K_P.mod\n",
      "MODLUNIT=/home/matt/PycharmProjects/detailed-single-cell/venv/lib/python3.8/site-packages/neuron/.data/share/nrn/lib/nrnunits.lib \\\n",
      "  /home/matt/PycharmProjects/detailed-single-cell/venv/lib/python3.8/site-packages/neuron/.data/bin/nocmodl K_P.mod\n",
      " -> \u001b[32mNMODL\u001b[0m K_T.mod\n",
      " -> \u001b[32mNMODL\u001b[0m Kd.mod\n",
      "MODLUNIT=/home/matt/PycharmProjects/detailed-single-cell/venv/lib/python3.8/site-packages/neuron/.data/share/nrn/lib/nrnunits.lib \\\n",
      "  /home/matt/PycharmProjects/detailed-single-cell/venv/lib/python3.8/site-packages/neuron/.data/bin/nocmodl Kd.mod\n",
      "MODLUNIT=/home/matt/PycharmProjects/detailed-single-cell/venv/lib/python3.8/site-packages/neuron/.data/share/nrn/lib/nrnunits.lib \\\n",
      "  /home/matt/PycharmProjects/detailed-single-cell/venv/lib/python3.8/site-packages/neuron/.data/bin/nocmodl K_T.mod\n",
      " -> \u001b[32mNMODL\u001b[0m Kv3_1.mod\n",
      " -> \u001b[32mNMODL\u001b[0m Kv2like.mod\n",
      "MODLUNIT=/home/matt/PycharmProjects/detailed-single-cell/venv/lib/python3.8/site-packages/neuron/.data/share/nrn/lib/nrnunits.lib \\\n",
      "  /home/matt/PycharmProjects/detailed-single-cell/venv/lib/python3.8/site-packages/neuron/.data/bin/nocmodl Kv2like.mod\n",
      "MODLUNIT=/home/matt/PycharmProjects/detailed-single-cell/venv/lib/python3.8/site-packages/neuron/.data/share/nrn/lib/nrnunits.lib \\\n",
      "  /home/matt/PycharmProjects/detailed-single-cell/venv/lib/python3.8/site-packages/neuron/.data/bin/nocmodl Kv3_1.mod\n",
      " -> \u001b[32mNMODL\u001b[0m NaTa.mod\n",
      "MODLUNIT=/home/matt/PycharmProjects/detailed-single-cell/venv/lib/python3.8/site-packages/neuron/.data/share/nrn/lib/nrnunits.lib \\\n",
      "  /home/matt/PycharmProjects/detailed-single-cell/venv/lib/python3.8/site-packages/neuron/.data/bin/nocmodl NaTa.mod\n",
      " -> \u001b[32mNMODL\u001b[0m NaTs.mod\n",
      "MODLUNIT=/home/matt/PycharmProjects/detailed-single-cell/venv/lib/python3.8/site-packages/neuron/.data/share/nrn/lib/nrnunits.lib \\\n",
      "  /home/matt/PycharmProjects/detailed-single-cell/venv/lib/python3.8/site-packages/neuron/.data/bin/nocmodl NaTs.mod\n",
      " -> \u001b[32mNMODL\u001b[0m NaV.mod\n",
      "MODLUNIT=/home/matt/PycharmProjects/detailed-single-cell/venv/lib/python3.8/site-packages/neuron/.data/share/nrn/lib/nrnunits.lib \\\n",
      "  /home/matt/PycharmProjects/detailed-single-cell/venv/lib/python3.8/site-packages/neuron/.data/bin/nocmodl NaV.mod\n",
      " -> \u001b[32mNMODL\u001b[0m Nap.mod\n",
      "MODLUNIT=/home/matt/PycharmProjects/detailed-single-cell/venv/lib/python3.8/site-packages/neuron/.data/share/nrn/lib/nrnunits.lib \\\n",
      "  /home/matt/PycharmProjects/detailed-single-cell/venv/lib/python3.8/site-packages/neuron/.data/bin/nocmodl Nap.mod\n",
      " -> \u001b[32mNMODL\u001b[0m SK.mod\n",
      "MODLUNIT=/home/matt/PycharmProjects/detailed-single-cell/venv/lib/python3.8/site-packages/neuron/.data/share/nrn/lib/nrnunits.lib \\\n",
      "  /home/matt/PycharmProjects/detailed-single-cell/venv/lib/python3.8/site-packages/neuron/.data/bin/nocmodl SK.mod\n",
      " -> \u001b[32mNMODL\u001b[0m vecevent.mod\n",
      "MODLUNIT=/home/matt/PycharmProjects/detailed-single-cell/venv/lib/python3.8/site-packages/neuron/.data/share/nrn/lib/nrnunits.lib \\\n",
      "  /home/matt/PycharmProjects/detailed-single-cell/venv/lib/python3.8/site-packages/neuron/.data/bin/nocmodl vecevent.mod\n",
      " -> \u001b[32mCompiling\u001b[0m x86_64/CaDynamics.c\n",
      "(cd .. ; x86_64-linux-gnu-gcc -O2   -I. -I..   -I/home/matt/PycharmProjects/detailed-single-cell/venv/lib/python3.8/site-packages/neuron/.data/include  -I/nrnwheel/openmpi/include -fPIC -c x86_64/CaDynamics.c -o x86_64/CaDynamics.o)\n",
      " -> \u001b[32mCompiling\u001b[0m x86_64/Ca_HVA.c\n",
      "(cd .. ; x86_64-linux-gnu-gcc -O2   -I. -I..   -I/home/matt/PycharmProjects/detailed-single-cell/venv/lib/python3.8/site-packages/neuron/.data/include  -I/nrnwheel/openmpi/include -fPIC -c x86_64/Ca_HVA.c -o x86_64/Ca_HVA.o)\n",
      " -> \u001b[32mCompiling\u001b[0m x86_64/Ca_LVA.c\n",
      "(cd .. ; x86_64-linux-gnu-gcc -O2   -I. -I..   -I/home/matt/PycharmProjects/detailed-single-cell/venv/lib/python3.8/site-packages/neuron/.data/include  -I/nrnwheel/openmpi/include -fPIC -c x86_64/Ca_LVA.c -o x86_64/Ca_LVA.o)\n",
      " -> \u001b[32mCompiling\u001b[0m x86_64/Ih.c\n",
      "(cd .. ; x86_64-linux-gnu-gcc -O2   -I. -I..   -I/home/matt/PycharmProjects/detailed-single-cell/venv/lib/python3.8/site-packages/neuron/.data/include  -I/nrnwheel/openmpi/include -fPIC -c x86_64/Ih.c -o x86_64/Ih.o)\n",
      " -> \u001b[32mCompiling\u001b[0m x86_64/Im.c\n",
      "(cd .. ; x86_64-linux-gnu-gcc -O2   -I. -I..   -I/home/matt/PycharmProjects/detailed-single-cell/venv/lib/python3.8/site-packages/neuron/.data/include  -I/nrnwheel/openmpi/include -fPIC -c x86_64/Im.c -o x86_64/Im.o)\n",
      " -> \u001b[32mCompiling\u001b[0m x86_64/Im_v2.c\n",
      "(cd .. ; x86_64-linux-gnu-gcc -O2   -I. -I..   -I/home/matt/PycharmProjects/detailed-single-cell/venv/lib/python3.8/site-packages/neuron/.data/include  -I/nrnwheel/openmpi/include -fPIC -c x86_64/Im_v2.c -o x86_64/Im_v2.o)\n"
     ]
    },
    {
     "name": "stderr",
     "output_type": "stream",
     "text": [
      "ls: cannot access 'modfiles/*.inc': No such file or directory\n",
      "Translating CaDynamics.mod into CaDynamics.c\n",
      "Translating Ca_HVA.mod into Ca_HVA.c\n",
      "Translating Ca_LVA.mod into Ca_LVA.c\n",
      "Thread Safe\n",
      "Thread Safe\n",
      "Thread Safe\n",
      "Translating Ih.mod into Ih.c\n",
      "Translating Im.mod into Im.c\n",
      "Translating Im_v2.mod into Im_v2.c\n",
      "Thread Safe\n",
      "Thread Safe\n",
      "Thread Safe\n",
      "Translating K_P.mod into K_P.c\n",
      "Translating Kd.mod into Kd.c\n",
      "Thread Safe\n",
      "Translating K_T.mod into K_T.c\n",
      "Thread Safe\n",
      "Thread Safe\n",
      "Translating Kv2like.mod into Kv2like.c\n",
      "Translating NaTa.mod into NaTa.c\n",
      "Translating Kv3_1.mod into Kv3_1.c\n",
      "Thread Safe\n",
      "Thread Safe\n",
      "Thread Safe\n",
      "Translating NaTs.mod into NaTs.c\n",
      "Translating NaV.mod into NaV.c\n",
      "Translating Nap.mod into Nap.c\n",
      "NEURON's CVode method ignores conservation\n",
      "Notice: LINEAR is not thread safe.\n",
      "Thread Safe\n",
      "Thread Safe\n",
      "Translating SK.mod into SK.c\n",
      "Translating vecevent.mod into vecevent.c\n",
      "Notice: VERBATIM blocks are not thread safe\n",
      "Thread Safe\n"
     ]
    },
    {
     "name": "stdout",
     "output_type": "stream",
     "text": [
      " -> \u001b[32mCompiling\u001b[0m x86_64/K_P.c\n",
      "(cd .. ; x86_64-linux-gnu-gcc -O2   -I. -I..   -I/home/matt/PycharmProjects/detailed-single-cell/venv/lib/python3.8/site-packages/neuron/.data/include  -I/nrnwheel/openmpi/include -fPIC -c x86_64/K_P.c -o x86_64/K_P.o)\n",
      " -> \u001b[32mCompiling\u001b[0m x86_64/K_T.c\n",
      "(cd .. ; x86_64-linux-gnu-gcc -O2   -I. -I..   -I/home/matt/PycharmProjects/detailed-single-cell/venv/lib/python3.8/site-packages/neuron/.data/include  -I/nrnwheel/openmpi/include -fPIC -c x86_64/K_T.c -o x86_64/K_T.o)\n",
      " -> \u001b[32mCompiling\u001b[0m x86_64/Kd.c\n",
      "(cd .. ; x86_64-linux-gnu-gcc -O2   -I. -I..   -I/home/matt/PycharmProjects/detailed-single-cell/venv/lib/python3.8/site-packages/neuron/.data/include  -I/nrnwheel/openmpi/include -fPIC -c x86_64/Kd.c -o x86_64/Kd.o)\n",
      " -> \u001b[32mCompiling\u001b[0m x86_64/Kv2like.c\n",
      "(cd .. ; x86_64-linux-gnu-gcc -O2   -I. -I..   -I/home/matt/PycharmProjects/detailed-single-cell/venv/lib/python3.8/site-packages/neuron/.data/include  -I/nrnwheel/openmpi/include -fPIC -c x86_64/Kv2like.c -o x86_64/Kv2like.o)\n",
      " -> \u001b[32mCompiling\u001b[0m x86_64/Kv3_1.c\n",
      "(cd .. ; x86_64-linux-gnu-gcc -O2   -I. -I..   -I/home/matt/PycharmProjects/detailed-single-cell/venv/lib/python3.8/site-packages/neuron/.data/include  -I/nrnwheel/openmpi/include -fPIC -c x86_64/Kv3_1.c -o x86_64/Kv3_1.o)\n",
      " -> \u001b[32mCompiling\u001b[0m x86_64/NaTa.c\n",
      "(cd .. ; x86_64-linux-gnu-gcc -O2   -I. -I..   -I/home/matt/PycharmProjects/detailed-single-cell/venv/lib/python3.8/site-packages/neuron/.data/include  -I/nrnwheel/openmpi/include -fPIC -c x86_64/NaTa.c -o x86_64/NaTa.o)\n",
      " -> \u001b[32mCompiling\u001b[0m x86_64/NaTs.c\n",
      "(cd .. ; x86_64-linux-gnu-gcc -O2   -I. -I..   -I/home/matt/PycharmProjects/detailed-single-cell/venv/lib/python3.8/site-packages/neuron/.data/include  -I/nrnwheel/openmpi/include -fPIC -c x86_64/NaTs.c -o x86_64/NaTs.o)\n",
      " -> \u001b[32mCompiling\u001b[0m x86_64/NaV.c\n",
      "(cd .. ; x86_64-linux-gnu-gcc -O2   -I. -I..   -I/home/matt/PycharmProjects/detailed-single-cell/venv/lib/python3.8/site-packages/neuron/.data/include  -I/nrnwheel/openmpi/include -fPIC -c x86_64/NaV.c -o x86_64/NaV.o)\n",
      " -> \u001b[32mCompiling\u001b[0m x86_64/Nap.c\n",
      "(cd .. ; x86_64-linux-gnu-gcc -O2   -I. -I..   -I/home/matt/PycharmProjects/detailed-single-cell/venv/lib/python3.8/site-packages/neuron/.data/include  -I/nrnwheel/openmpi/include -fPIC -c x86_64/Nap.c -o x86_64/Nap.o)\n",
      " -> \u001b[32mCompiling\u001b[0m x86_64/SK.c\n",
      "(cd .. ; x86_64-linux-gnu-gcc -O2   -I. -I..   -I/home/matt/PycharmProjects/detailed-single-cell/venv/lib/python3.8/site-packages/neuron/.data/include  -I/nrnwheel/openmpi/include -fPIC -c x86_64/SK.c -o x86_64/SK.o)\n",
      " -> \u001b[32mCompiling\u001b[0m x86_64/vecevent.c\n",
      "(cd .. ; x86_64-linux-gnu-gcc -O2   -I. -I..   -I/home/matt/PycharmProjects/detailed-single-cell/venv/lib/python3.8/site-packages/neuron/.data/include  -I/nrnwheel/openmpi/include -fPIC -c x86_64/vecevent.c -o x86_64/vecevent.o)\n",
      " => \u001b[32mLINKING\u001b[0m library x86_64/libnrnmech.so Mod files: CaDynamics.mod Ca_HVA.mod Ca_LVA.mod Ih.mod Im.mod Im_v2.mod K_P.mod K_T.mod Kd.mod Kv2like.mod Kv3_1.mod NaTa.mod NaTs.mod NaV.mod Nap.mod SK.mod vecevent.mod\n",
      "(cd .. ; x86_64-linux-gnu-g++ -O2 -DVERSION_INFO='7.8.1.0' -std=c++11 -shared -fPIC  -I /home/matt/PycharmProjects/detailed-single-cell/venv/lib/python3.8/site-packages/neuron/.data/include -o x86_64/libnrnmech.so -Wl,-soname,libnrnmech.so \\\n",
      "  x86_64/mod_func.o x86_64/CaDynamics.o x86_64/Ca_HVA.o x86_64/Ca_LVA.o x86_64/Ih.o x86_64/Im.o x86_64/Im_v2.o x86_64/K_P.o x86_64/K_T.o x86_64/Kd.o x86_64/Kv2like.o x86_64/Kv3_1.o x86_64/NaTa.o x86_64/NaTs.o x86_64/NaV.o x86_64/Nap.o x86_64/SK.o x86_64/vecevent.o -L/home/matt/PycharmProjects/detailed-single-cell/venv/lib/python3.8/site-packages/neuron/.data/lib -lnrniv -Wl,-rpath,/home/matt/PycharmProjects/detailed-single-cell/venv/lib/python3.8/site-packages/neuron/.data/lib   )\n",
      "(cd .. ; rm -f x86_64/.libs/libnrnmech.so ; mkdir -p x86_64/.libs ; ln -s ../../x86_64/libnrnmech.so x86_64/.libs/libnrnmech.so)\n",
      "Successfully created x86_64/special\n"
     ]
    }
   ],
   "source": [
    "from bmtk.utils.sim_setup import build_env_bionet\n",
    "\n",
    "build_env_bionet(base_dir='sim_details',\n",
    "                 network_dir='network',\n",
    "                 tstop=30.0, dt=0.025,\n",
    "                 v_init=-91.63188171386719, # use e_pas in dynamics_params file\n",
    "                 report_vars=['v'],\n",
    "                 spikes_inputs=[('Source','sim_details/synaptic_input.csv')],\n",
    "                 config_file = 'config.json',\n",
    "                 include_examples=True,    # Copies components files\n",
    "                 compile_mechanisms=True   # Will try to compile NEURON mechanisms\n",
    "                )"
   ]
  },
  {
   "cell_type": "markdown",
   "metadata": {},
   "source": [
    "Remember to add 'ecp_report' module to the simulation_config.json file. See example in the config file in the root directory."
   ]
  },
  {
   "cell_type": "code",
   "execution_count": 11,
   "metadata": {},
   "outputs": [
    {
     "data": {
      "text/plain": [
       "'sim_details/simulation_config.json'"
      ]
     },
     "execution_count": 11,
     "metadata": {},
     "output_type": "execute_result"
    }
   ],
   "source": [
    "import os, shutil\n",
    "shutil.copy('simulation_config.json','sim_details/simulation_config.json')"
   ]
  },
  {
   "cell_type": "markdown",
   "metadata": {},
   "source": [
    "### Run bmtk"
   ]
  },
  {
   "cell_type": "code",
   "execution_count": 12,
   "metadata": {},
   "outputs": [
    {
     "name": "stdout",
     "output_type": "stream",
     "text": [
      "2022-03-31 09:51:02,074 [INFO] Created log file\n"
     ]
    },
    {
     "name": "stderr",
     "output_type": "stream",
     "text": [
      "INFO:NEURONIOUtils:Created log file\n"
     ]
    },
    {
     "name": "stdout",
     "output_type": "stream",
     "text": [
      "2022-03-31 09:51:02,166 [INFO] Building cells.\n"
     ]
    },
    {
     "name": "stderr",
     "output_type": "stream",
     "text": [
      "INFO:NEURONIOUtils:Building cells.\n"
     ]
    },
    {
     "ename": "ValueError",
     "evalue": "argument not a density mechanism name.",
     "output_type": "error",
     "traceback": [
      "\u001b[0;31m---------------------------------------------------------------------------\u001b[0m",
      "\u001b[0;31mValueError\u001b[0m                                Traceback (most recent call last)",
      "Input \u001b[0;32mIn [12]\u001b[0m, in \u001b[0;36m<cell line: 6>\u001b[0;34m()\u001b[0m\n\u001b[1;32m      4\u001b[0m conf\u001b[38;5;241m.\u001b[39mbuild_env()\n\u001b[1;32m      5\u001b[0m net \u001b[38;5;241m=\u001b[39m bionet\u001b[38;5;241m.\u001b[39mBioNetwork\u001b[38;5;241m.\u001b[39mfrom_config(conf)\n\u001b[0;32m----> 6\u001b[0m sim \u001b[38;5;241m=\u001b[39m \u001b[43mbionet\u001b[49m\u001b[38;5;241;43m.\u001b[39;49m\u001b[43mBioSimulator\u001b[49m\u001b[38;5;241;43m.\u001b[39;49m\u001b[43mfrom_config\u001b[49m\u001b[43m(\u001b[49m\u001b[43mconf\u001b[49m\u001b[43m,\u001b[49m\u001b[43m \u001b[49m\u001b[43mnetwork\u001b[49m\u001b[38;5;241;43m=\u001b[39;49m\u001b[43mnet\u001b[49m\u001b[43m)\u001b[49m\n\u001b[1;32m      7\u001b[0m sim\u001b[38;5;241m.\u001b[39mrun()\n",
      "File \u001b[0;32m~/PycharmProjects/detailed-single-cell/venv/lib/python3.8/site-packages/bmtk/simulator/bionet/biosimulator.py:402\u001b[0m, in \u001b[0;36mBioSimulator.from_config\u001b[0;34m(cls, config, network, set_recordings)\u001b[0m\n\u001b[1;32m    399\u001b[0m \u001b[38;5;66;03m# The network must be built before initializing the simulator because\u001b[39;00m\n\u001b[1;32m    400\u001b[0m \u001b[38;5;66;03m# gap junctions must be set up before the simulation is initialized.\u001b[39;00m\n\u001b[1;32m    401\u001b[0m network\u001b[38;5;241m.\u001b[39mio\u001b[38;5;241m.\u001b[39mlog_info(\u001b[38;5;124m'\u001b[39m\u001b[38;5;124mBuilding cells.\u001b[39m\u001b[38;5;124m'\u001b[39m)\n\u001b[0;32m--> 402\u001b[0m \u001b[43mnetwork\u001b[49m\u001b[38;5;241;43m.\u001b[39;49m\u001b[43mbuild_nodes\u001b[49m\u001b[43m(\u001b[49m\u001b[43m)\u001b[49m\n\u001b[1;32m    404\u001b[0m network\u001b[38;5;241m.\u001b[39mio\u001b[38;5;241m.\u001b[39mlog_info(\u001b[38;5;124m'\u001b[39m\u001b[38;5;124mBuilding recurrent connections\u001b[39m\u001b[38;5;124m'\u001b[39m)\n\u001b[1;32m    405\u001b[0m network\u001b[38;5;241m.\u001b[39mbuild_recurrent_edges()\n",
      "File \u001b[0;32m~/PycharmProjects/detailed-single-cell/venv/lib/python3.8/site-packages/bmtk/simulator/bionet/bionetwork.py:163\u001b[0m, in \u001b[0;36mBioNetwork.build_nodes\u001b[0;34m(self)\u001b[0m\n\u001b[1;32m    161\u001b[0m \u001b[38;5;28;01mif\u001b[39;00m node_pop\u001b[38;5;241m.\u001b[39minternal_nodes_only:\n\u001b[1;32m    162\u001b[0m     \u001b[38;5;28;01mfor\u001b[39;00m node \u001b[38;5;129;01min\u001b[39;00m node_pop[MPI_rank::MPI_size]:\n\u001b[0;32m--> 163\u001b[0m         cell \u001b[38;5;241m=\u001b[39m \u001b[38;5;28;43mself\u001b[39;49m\u001b[38;5;241;43m.\u001b[39;49m\u001b[43m_build_cell\u001b[49m\u001b[43m(\u001b[49m\u001b[43mbionode\u001b[49m\u001b[38;5;241;43m=\u001b[39;49m\u001b[43mnode\u001b[49m\u001b[43m,\u001b[49m\u001b[43m \u001b[49m\u001b[43mpopulation_name\u001b[49m\u001b[38;5;241;43m=\u001b[39;49m\u001b[43mnode_pop\u001b[49m\u001b[38;5;241;43m.\u001b[39;49m\u001b[43mname\u001b[49m\u001b[43m)\u001b[49m\n\u001b[1;32m    164\u001b[0m         node_ids_map[node\u001b[38;5;241m.\u001b[39mnode_id] \u001b[38;5;241m=\u001b[39m cell\n\u001b[1;32m    165\u001b[0m         \u001b[38;5;28mself\u001b[39m\u001b[38;5;241m.\u001b[39m_rank_node_gids[cell\u001b[38;5;241m.\u001b[39mgid] \u001b[38;5;241m=\u001b[39m cell\n",
      "File \u001b[0;32m~/PycharmProjects/detailed-single-cell/venv/lib/python3.8/site-packages/bmtk/simulator/bionet/bionetwork.py:146\u001b[0m, in \u001b[0;36mBioNetwork._build_cell\u001b[0;34m(self, bionode, population_name)\u001b[0m\n\u001b[1;32m    144\u001b[0m \u001b[38;5;28;01mdef\u001b[39;00m \u001b[38;5;21m_build_cell\u001b[39m(\u001b[38;5;28mself\u001b[39m, bionode, population_name):\n\u001b[1;32m    145\u001b[0m     \u001b[38;5;28;01mif\u001b[39;00m bionode\u001b[38;5;241m.\u001b[39mmodel_type \u001b[38;5;129;01min\u001b[39;00m \u001b[38;5;28mself\u001b[39m\u001b[38;5;241m.\u001b[39m_model_type_map:\n\u001b[0;32m--> 146\u001b[0m         cell \u001b[38;5;241m=\u001b[39m \u001b[38;5;28;43mself\u001b[39;49m\u001b[38;5;241;43m.\u001b[39;49m\u001b[43m_model_type_map\u001b[49m\u001b[43m[\u001b[49m\u001b[43mbionode\u001b[49m\u001b[38;5;241;43m.\u001b[39;49m\u001b[43mmodel_type\u001b[49m\u001b[43m]\u001b[49m\u001b[43m(\u001b[49m\u001b[43mbionode\u001b[49m\u001b[43m,\u001b[49m\u001b[43m \u001b[49m\u001b[43mpopulation_name\u001b[49m\u001b[38;5;241;43m=\u001b[39;49m\u001b[43mpopulation_name\u001b[49m\u001b[43m,\u001b[49m\u001b[43m \u001b[49m\u001b[43mbionetwork\u001b[49m\u001b[38;5;241;43m=\u001b[39;49m\u001b[38;5;28;43mself\u001b[39;49m\u001b[43m)\u001b[49m\n\u001b[1;32m    147\u001b[0m         \u001b[38;5;28mself\u001b[39m\u001b[38;5;241m.\u001b[39m_rank_nodes_by_model[bionode\u001b[38;5;241m.\u001b[39mmodel_type][cell\u001b[38;5;241m.\u001b[39mgid] \u001b[38;5;241m=\u001b[39m cell\n\u001b[1;32m    148\u001b[0m         \u001b[38;5;28;01mreturn\u001b[39;00m cell\n",
      "File \u001b[0;32m~/PycharmProjects/detailed-single-cell/venv/lib/python3.8/site-packages/bmtk/simulator/bionet/biocell.py:74\u001b[0m, in \u001b[0;36mBioCell.__init__\u001b[0;34m(self, node, population_name, bionetwork)\u001b[0m\n\u001b[1;32m     73\u001b[0m \u001b[38;5;28;01mdef\u001b[39;00m \u001b[38;5;21m__init__\u001b[39m(\u001b[38;5;28mself\u001b[39m, node, population_name, bionetwork):\n\u001b[0;32m---> 74\u001b[0m     \u001b[38;5;28;43msuper\u001b[39;49m\u001b[43m(\u001b[49m\u001b[43mBioCell\u001b[49m\u001b[43m,\u001b[49m\u001b[43m \u001b[49m\u001b[38;5;28;43mself\u001b[39;49m\u001b[43m)\u001b[49m\u001b[38;5;241;43m.\u001b[39;49m\u001b[38;5;21;43m__init__\u001b[39;49m\u001b[43m(\u001b[49m\u001b[43mnode\u001b[49m\u001b[38;5;241;43m=\u001b[39;49m\u001b[43mnode\u001b[49m\u001b[43m,\u001b[49m\u001b[43m \u001b[49m\u001b[43mpopulation_name\u001b[49m\u001b[38;5;241;43m=\u001b[39;49m\u001b[43mpopulation_name\u001b[49m\u001b[43m,\u001b[49m\u001b[43m \u001b[49m\u001b[43mnetwork\u001b[49m\u001b[38;5;241;43m=\u001b[39;49m\u001b[43mbionetwork\u001b[49m\u001b[43m)\u001b[49m\n\u001b[1;32m     76\u001b[0m     \u001b[38;5;66;03m# Set up netcon object that can be used to detect and communicate cell spikes.\u001b[39;00m\n\u001b[1;32m     77\u001b[0m     \u001b[38;5;28mself\u001b[39m\u001b[38;5;241m.\u001b[39mset_spike_detector(bionetwork\u001b[38;5;241m.\u001b[39mspike_threshold)\n",
      "File \u001b[0;32m~/PycharmProjects/detailed-single-cell/venv/lib/python3.8/site-packages/bmtk/simulator/bionet/cell.py:54\u001b[0m, in \u001b[0;36mCell.__init__\u001b[0;34m(self, node, population_name, network)\u001b[0m\n\u001b[1;32m     51\u001b[0m pc\u001b[38;5;241m.\u001b[39mset_gid2node(\u001b[38;5;28mself\u001b[39m\u001b[38;5;241m.\u001b[39mgid, MPI_RANK)\n\u001b[1;32m     53\u001b[0m \u001b[38;5;66;03m# Load the NEURON HOC object\u001b[39;00m\n\u001b[0;32m---> 54\u001b[0m \u001b[38;5;28mself\u001b[39m\u001b[38;5;241m.\u001b[39m_hobj \u001b[38;5;241m=\u001b[39m \u001b[43mnode\u001b[49m\u001b[38;5;241;43m.\u001b[39;49m\u001b[43mload_cell\u001b[49m\u001b[43m(\u001b[49m\u001b[43m)\u001b[49m\n\u001b[1;32m     56\u001b[0m \u001b[38;5;28mself\u001b[39m\u001b[38;5;241m.\u001b[39m_edge_props \u001b[38;5;241m=\u001b[39m []\n",
      "File \u001b[0;32m~/PycharmProjects/detailed-single-cell/venv/lib/python3.8/site-packages/bmtk/simulator/bionet/sonata_adaptors.py:74\u001b[0m, in \u001b[0;36mBioNode.load_cell\u001b[0;34m(self)\u001b[0m\n\u001b[1;32m     72\u001b[0m \u001b[38;5;28;01mfor\u001b[39;00m model_processing_str \u001b[38;5;129;01min\u001b[39;00m \u001b[38;5;28mself\u001b[39m\u001b[38;5;241m.\u001b[39mmodel_processing:\n\u001b[1;32m     73\u001b[0m     processing_fnc \u001b[38;5;241m=\u001b[39m nrn\u001b[38;5;241m.\u001b[39mpy_modules\u001b[38;5;241m.\u001b[39mcell_processor(model_processing_str)\n\u001b[0;32m---> 74\u001b[0m     hobj \u001b[38;5;241m=\u001b[39m \u001b[43mprocessing_fnc\u001b[49m\u001b[43m(\u001b[49m\u001b[43mhobj\u001b[49m\u001b[43m,\u001b[49m\u001b[43m \u001b[49m\u001b[38;5;28;43mself\u001b[39;49m\u001b[43m,\u001b[49m\u001b[43m \u001b[49m\u001b[43mdynamics_params\u001b[49m\u001b[43m)\u001b[49m\n\u001b[1;32m     76\u001b[0m \u001b[38;5;28;01mreturn\u001b[39;00m hobj\n",
      "File \u001b[0;32m~/PycharmProjects/detailed-single-cell/venv/lib/python3.8/site-packages/bmtk/simulator/bionet/default_setters/cell_models.py:165\u001b[0m, in \u001b[0;36maibs_allactive\u001b[0;34m(hobj, cell, dynamics_params)\u001b[0m\n\u001b[1;32m    163\u001b[0m \u001b[38;5;28;01mdef\u001b[39;00m \u001b[38;5;21maibs_allactive\u001b[39m(hobj, cell, dynamics_params):\n\u001b[1;32m    164\u001b[0m     fix_axon_allactive(hobj)\n\u001b[0;32m--> 165\u001b[0m     \u001b[43mset_params_allactive\u001b[49m\u001b[43m(\u001b[49m\u001b[43mhobj\u001b[49m\u001b[43m,\u001b[49m\u001b[43m \u001b[49m\u001b[43mdynamics_params\u001b[49m\u001b[43m)\u001b[49m\n\u001b[1;32m    166\u001b[0m     \u001b[38;5;28;01mreturn\u001b[39;00m hobj\n",
      "File \u001b[0;32m~/PycharmProjects/detailed-single-cell/venv/lib/python3.8/site-packages/bmtk/simulator/bionet/default_setters/cell_models.py:249\u001b[0m, in \u001b[0;36mset_params_allactive\u001b[0;34m(hobj, params_dict)\u001b[0m\n\u001b[1;32m    247\u001b[0m     \u001b[38;5;28;01mfor\u001b[39;00m sec \u001b[38;5;129;01min\u001b[39;00m section_map\u001b[38;5;241m.\u001b[39mget(g_section, []):\n\u001b[1;32m    248\u001b[0m         \u001b[38;5;28;01mif\u001b[39;00m g_mechanism \u001b[38;5;241m!=\u001b[39m \u001b[38;5;124m\"\u001b[39m\u001b[38;5;124m\"\u001b[39m:\n\u001b[0;32m--> 249\u001b[0m             \u001b[43msec\u001b[49m\u001b[38;5;241;43m.\u001b[39;49m\u001b[43minsert\u001b[49m\u001b[43m(\u001b[49m\u001b[43mg_mechanism\u001b[49m\u001b[43m)\u001b[49m\n\u001b[1;32m    250\u001b[0m         \u001b[38;5;28msetattr\u001b[39m(sec, g_name, g_value)\n\u001b[1;32m    252\u001b[0m \u001b[38;5;28;01mfor\u001b[39;00m erev \u001b[38;5;129;01min\u001b[39;00m conditions[\u001b[38;5;124m'\u001b[39m\u001b[38;5;124merev\u001b[39m\u001b[38;5;124m'\u001b[39m]:\n",
      "\u001b[0;31mValueError\u001b[0m: argument not a density mechanism name."
     ]
    }
   ],
   "source": [
    "from bmtk.simulator import bionet\n",
    "\n",
    "conf = bionet.Config.from_json('sim_details/config.json')\n",
    "conf.build_env()\n",
    "net = bionet.BioNetwork.from_config(conf)\n",
    "sim = bionet.BioSimulator.from_config(conf, network=net)\n",
    "sim.run()"
   ]
  },
  {
   "cell_type": "markdown",
   "metadata": {},
   "source": [
    "#### Check morphology\n",
    "Function to plot morphology"
   ]
  },
  {
   "cell_type": "code",
   "execution_count": null,
   "metadata": {},
   "outputs": [],
   "source": [
    "from mpl_toolkits import mplot3d\n",
    "from mpl_toolkits.axes_grid1.axes_divider import make_axes_locatable\n",
    "from matplotlib import cm\n",
    "import matplotlib.pyplot as plt\n",
    "%matplotlib notebook\n",
    "\n",
    "def plot_morphology(network,gid=0,rotated=True,figsize=(8,6),ax=None):\n",
    "    cell = network.get_cell_gid(gid)\n",
    "    morph = cell.morphology\n",
    "    if rotated:\n",
    "        coords = cell.get_seg_coords()\n",
    "    else:\n",
    "        coords = morph.seg_coords\n",
    "    stype = morph.seg_prop['type'].astype(int)-1\n",
    "    st = list(morph.sec_type_swc.keys())[::2]\n",
    "    ilab = [list(stype).index(i) for i in range(len(st))]\n",
    "    clr = ['g','r','b','c']\n",
    "    if ax is None:\n",
    "        print(cell.morphology_file)\n",
    "        fig = plt.figure(figsize=figsize)\n",
    "        ax = plt.axes(projection='3d')\n",
    "    else:\n",
    "        fig = ax.figure\n",
    "        fig.set_size_inches(figsize)\n",
    "    for i in range(stype.size):\n",
    "        label = st[ilab.index(i)] if i in ilab else None\n",
    "        if stype[i]==0:\n",
    "            ax.scatter(*coords['p05'][:,i].tolist(),c=clr[0],s=30,label=label)\n",
    "        else:\n",
    "            ax.plot3D(*[[coords['p0'][j,i],coords['p1'][j,i]] for j in range(3)],\n",
    "                      color=clr[stype[i]],label=label)\n",
    "    ax.legend(loc=1)\n",
    "    ax.set_xlabel('x')\n",
    "    ax.set_ylabel('y')\n",
    "    ax.set_zlabel('z')\n",
    "    return fig, ax"
   ]
  },
  {
   "cell_type": "code",
   "execution_count": null,
   "metadata": {},
   "outputs": [],
   "source": [
    "%matplotlib notebook\n",
    "\n",
    "_ = plot_morphology(net,0,rotated=True)"
   ]
  },
  {
   "cell_type": "markdown",
   "metadata": {},
   "source": [
    "### Check Results"
   ]
  },
  {
   "cell_type": "code",
   "execution_count": null,
   "metadata": {},
   "outputs": [],
   "source": [
    "import h5py\n",
    "import numpy as np\n",
    "import pandas as pd\n",
    "import os\n",
    "\n",
    "outpath = 'sim_details/output/'"
   ]
  },
  {
   "cell_type": "markdown",
   "metadata": {},
   "source": [
    "#### Check membrane voltage"
   ]
  },
  {
   "cell_type": "code",
   "execution_count": null,
   "metadata": {},
   "outputs": [],
   "source": [
    "filename = 'v_report.h5'\n",
    "v_file = outpath + filename\n",
    "v_f = h5py.File(v_file,'r')\n",
    "\n",
    "V = v_f['report/Cell/data'][()]\n",
    "t = np.arange(*v_f['report/Cell/mapping/time']) # array of time\n",
    "\n",
    "import matplotlib.pyplot as plt\n",
    "%matplotlib inline\n",
    "\n",
    "plt.figure()\n",
    "plt.plot(t,V)\n",
    "plt.xlabel('time (ms)')\n",
    "plt.ylabel('membrane voltage (mV)')\n",
    "plt.show()"
   ]
  },
  {
   "cell_type": "markdown",
   "metadata": {},
   "source": [
    "#### Check LFP"
   ]
  },
  {
   "cell_type": "code",
   "execution_count": null,
   "metadata": {},
   "outputs": [],
   "source": [
    "filename = 'ecp.h5'\n",
    "ecp_file = outpath + filename\n",
    "ecp_f = h5py.File(ecp_file,'r')\n",
    "lfp = ecp_f['ecp/data'][()]\n",
    "t = np.arange(*v_f['report/Cell/mapping/time']) # array of time\n",
    "fs = 1000/v_f['report/Cell/mapping/time'][2]"
   ]
  },
  {
   "cell_type": "code",
   "execution_count": null,
   "metadata": {},
   "outputs": [],
   "source": [
    "from scipy import signal\n",
    "\n",
    "filt_b,filt_a = signal.butter(2,100,'hp',fs=fs)\n",
    "lfp_filt = signal.lfilter(filt_b,filt_a,lfp,axis=0)"
   ]
  },
  {
   "cell_type": "code",
   "execution_count": null,
   "metadata": {},
   "outputs": [],
   "source": [
    "_,ax = plt.subplots(2,1,figsize=(8,6))\n",
    "idx = (t>=0) & (t<=30)\n",
    "ax[0].set_title('LFP from all electrodes')\n",
    "for i in range(lfp.shape[1]):\n",
    "    ax[0].plot(t[idx],lfp[idx,i])\n",
    "\n",
    "idx = (t>=10) & (t<=20)\n",
    "ax[1].set_title('Filtered LFP')\n",
    "ax[1].set_xlabel('ms')\n",
    "for i in range(lfp_filt.shape[1]):\n",
    "    ax[1].plot(t[idx],lfp_filt[idx,i],color=ax[0].lines[i].get_color())"
   ]
  },
  {
   "cell_type": "markdown",
   "metadata": {},
   "source": [
    "Save to h5 file"
   ]
  },
  {
   "cell_type": "code",
   "execution_count": null,
   "metadata": {},
   "outputs": [],
   "source": [
    "hf = h5py.File('detailed_groundtruth.h5', 'w')\n",
    "hf.create_dataset('data',data=lfp_filt)\n",
    "hf.close()"
   ]
  },
  {
   "cell_type": "code",
   "execution_count": null,
   "metadata": {},
   "outputs": [],
   "source": []
  }
 ],
 "metadata": {
  "kernelspec": {
   "display_name": "Python 3 (ipykernel)",
   "language": "python",
   "name": "python3"
  },
  "language_info": {
   "codemirror_mode": {
    "name": "ipython",
    "version": 3
   },
   "file_extension": ".py",
   "mimetype": "text/x-python",
   "name": "python",
   "nbconvert_exporter": "python",
   "pygments_lexer": "ipython3",
   "version": "3.8.10"
  }
 },
 "nbformat": 4,
 "nbformat_minor": 2
}
