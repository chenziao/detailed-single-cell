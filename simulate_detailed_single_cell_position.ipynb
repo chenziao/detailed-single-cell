{
 "cells": [
  {
   "cell_type": "markdown",
   "metadata": {},
   "source": [
    "## Setup model"
   ]
  },
  {
   "cell_type": "markdown",
   "metadata": {},
   "source": [
    "### Initialize electrode locations"
   ]
  },
  {
   "cell_type": "code",
   "execution_count": 1,
   "metadata": {},
   "outputs": [],
   "source": [
    "import numpy as np\n",
    "import pandas as pd\n",
    "import h5py\n",
    "\n",
    "# elec_pos = np.column_stack((np.zeros(96),np.linspace(-1900,1900,96),np.zeros(96)))\n",
    "\n",
    "# # save electrode position to file\n",
    "# elec_file = 'sim_details/linear_electrode.csv'\n",
    "# df = {'channel':np.arange(elec_pos.shape[0])}\n",
    "# df.update({x+'_pos':elec_pos[:,i] for i,x in enumerate(list('xyz'))})\n",
    "# df = pd.DataFrame(df)\n",
    "# df.to_csv(elec_file,sep=' ',index=False)\n",
    "\n",
    "with h5py.File('Electrode2D.h5', \"r\") as f:\n",
    "    elec_file = 'sim_details/linear_electrode.csv'  # It isn't linear but in order to not change configs I kept the name\n",
    "    elec_pos = np.hstack((f['coord'][:], np.zeros((384,1))))\n",
    "    df = {'channel':np.arange(elec_pos.shape[0])}\n",
    "    df.update({x+'_pos':elec_pos[:,i] for i,x in enumerate(list('xyz'))})\n",
    "    df = pd.DataFrame(df)\n",
    "    df.to_csv(elec_file,sep=' ',index=False)"
   ]
  },
  {
   "cell_type": "markdown",
   "metadata": {},
   "source": [
    "### Select model"
   ]
  },
  {
   "cell_type": "code",
   "execution_count": 2,
   "metadata": {},
   "outputs": [],
   "source": [
    "# model_name = 'neuronal_model_496930324'\n",
    "# syn_weight = 0.01\n",
    "# model_name = 'neuronal_model_497229089'\n",
    "# syn_weight = 0.03\n",
    "model_name = 'neuronal_model_491766131'\n",
    "syn_weight = 0.02\n",
    "\n",
    "dynamics_params = model_name + '.json'\n",
    "morphology = model_name+'_rotate.swc'"
   ]
  },
  {
   "cell_type": "markdown",
   "metadata": {},
   "source": [
    "#### Copy model files"
   ]
  },
  {
   "cell_type": "code",
   "execution_count": 3,
   "metadata": {},
   "outputs": [],
   "source": [
    "import os, shutil\n",
    "\n",
    "# shutil.copy(model_name + '/fit_parameters.json','sim_details/components/biophysical_neuron_models/' + dynamics_params)"
   ]
  },
  {
   "cell_type": "markdown",
   "metadata": {},
   "source": [
    "### Select translation distance and rotation angles, and convert to euler angles in bmtk"
   ]
  },
  {
   "cell_type": "code",
   "execution_count": 4,
   "metadata": {},
   "outputs": [],
   "source": [
    "import numpy as np\n",
    "from scipy.spatial.transform import Rotation as R\n",
    "\n",
    "x = 0\n",
    "y = 350\n",
    "z = 80\n",
    "theta = 0.\n",
    "h = 0.7071\n",
    "phi = 0.\n",
    "\n",
    "Rot = R.from_euler('yxy',[theta,np.arccos(h),phi])\n",
    "rot_zyx = Rot.as_euler('zyx')"
   ]
  },
  {
   "cell_type": "code",
   "execution_count": 5,
   "metadata": {},
   "outputs": [],
   "source": [
    "# # block basal dendrite\n",
    "# model_name += '_nobasal'\n",
    "# dynamics_params = model_name + '.json'"
   ]
  },
  {
   "cell_type": "markdown",
   "metadata": {},
   "source": [
    "## Build bmtk network"
   ]
  },
  {
   "cell_type": "code",
   "execution_count": 6,
   "metadata": {},
   "outputs": [],
   "source": [
    "from bmtk.builder.networks import NetworkBuilder\n",
    "\n",
    "net = NetworkBuilder('Cell')\n",
    "net.add_nodes(cell_name = 'Cell',\n",
    "              positions = np.array([[x,y,z]]),\n",
    "              rotation_angle_xaxis = rot_zyx[2], # rotation cell\n",
    "              rotation_angle_yaxis = rot_zyx[1],\n",
    "              rotation_angle_zaxis = rot_zyx[0],\n",
    "#               orientation=quaternion, # this option seems not implemented in bmtk\n",
    "              potental = 'exc',\n",
    "              model_type = 'biophysical',\n",
    "              model_template = 'ctdb:Biophys1.hoc',\n",
    "              model_processing = 'aibs_allactive',\n",
    "              dynamics_params = dynamics_params, #from allen database\n",
    "              morphology = morphology) # rotated swc file"
   ]
  },
  {
   "cell_type": "code",
   "execution_count": 7,
   "metadata": {},
   "outputs": [],
   "source": [
    "net.build()\n",
    "net.save_nodes(output_dir='network')"
   ]
  },
  {
   "cell_type": "code",
   "execution_count": 8,
   "metadata": {},
   "outputs": [],
   "source": [
    "source = NetworkBuilder('Source')\n",
    "source.add_nodes(N=1,pop_name='Source',potential='exc',model_type='virtual')"
   ]
  },
  {
   "cell_type": "code",
   "execution_count": 9,
   "metadata": {},
   "outputs": [
    {
     "data": {
      "text/plain": [
       "<bmtk.builder.connection_map.ConnectionMap at 0x164bb9a6e48>"
      ]
     },
     "execution_count": 9,
     "metadata": {},
     "output_type": "execute_result"
    }
   ],
   "source": [
    "source.add_edges(source={'pop_name':'Source'},target=net.nodes(),\n",
    "                   connection_rule=1,\n",
    "                   syn_weight=syn_weight,\n",
    "                   delay=0.0,\n",
    "                   weight_function=None,\n",
    "                   target_sections=['soma'],\n",
    "                   distance_range=[0.0,1000.0],\n",
    "                   dynamics_params='AMPA_ExcToExc.json',\n",
    "                   model_template='exp2syn')"
   ]
  },
  {
   "cell_type": "code",
   "execution_count": 10,
   "metadata": {},
   "outputs": [],
   "source": [
    "source.build()\n",
    "source.save_nodes(output_dir='network')\n",
    "source.save_edges(output_dir='network')"
   ]
  },
  {
   "cell_type": "markdown",
   "metadata": {},
   "source": [
    "#### Synaptic input spike"
   ]
  },
  {
   "cell_type": "code",
   "execution_count": 11,
   "metadata": {},
   "outputs": [],
   "source": [
    "import pandas as pd\n",
    "\n",
    "syn_time = 10.0\n",
    "spike = pd.DataFrame(data={'node_ids':[0],'timestamps':[syn_time],'population':['Source']})\n",
    "spike.to_csv('sim_details/synaptic_input.csv',sep=' ',index=False)"
   ]
  },
  {
   "cell_type": "markdown",
   "metadata": {},
   "source": [
    "## Build"
   ]
  },
  {
   "cell_type": "markdown",
   "metadata": {},
   "source": [
    "#### Create config for the first time"
   ]
  },
  {
   "cell_type": "code",
   "execution_count": 12,
   "metadata": {},
   "outputs": [],
   "source": [
    "# from bmtk.utils.sim_setup import build_env_bionet\n",
    "\n",
    "# build_env_bionet(base_dir='sim_details',\n",
    "#                  network_dir='network',\n",
    "#                  tstop=30.0, dt=0.025,\n",
    "#                  v_init=-91.63188171386719, # use e_pas in dynamics_params file\n",
    "#                  report_vars=['v','ecp'],\n",
    "#                  spikes_inputs=[('Source','sim_details/synaptic_input.csv')],\n",
    "#                  config_file = 'config.json',\n",
    "#                  include_examples=True,    # Copies components files\n",
    "#                  compile_mechanisms=True   # Will try to compile NEURON mechanisms\n",
    "#                 )"
   ]
  },
  {
   "cell_type": "markdown",
   "metadata": {},
   "source": [
    "#### Load from source config file"
   ]
  },
  {
   "cell_type": "code",
   "execution_count": 13,
   "metadata": {},
   "outputs": [],
   "source": [
    "import json\n",
    "\n",
    "source_config = 'simulation_config.json'\n",
    "target_config = 'sim_details/simulation_config.json'\n",
    "\n",
    "with open(source_config) as f:\n",
    "    config = json.load(f)"
   ]
  },
  {
   "cell_type": "markdown",
   "metadata": {},
   "source": [
    "#### Change settings"
   ]
  },
  {
   "cell_type": "code",
   "execution_count": 14,
   "metadata": {},
   "outputs": [],
   "source": [
    "Record_im = True # record transmembrane current\n",
    "\n",
    "config['run']['tstop'] = 30.0\n",
    "# config['run']['dt'] = 0.025\n",
    "# config['conditions']['v_init'] = -90.0\n",
    "\n",
    "if Record_im:\n",
    "    config['reports']['imem_report'] = { 'variable_name': 'i_membrane_',\n",
    "                                         'cells': 'all',\n",
    "                                         'module': 'membrane_report',\n",
    "                                         'file_name': 'imem.h5',\n",
    "                                         'sections': 'all' }\n",
    "else:\n",
    "    del config['reports']['ecp_report']"
   ]
  },
  {
   "cell_type": "markdown",
   "metadata": {},
   "source": [
    "#### Write to targe config file"
   ]
  },
  {
   "cell_type": "code",
   "execution_count": 15,
   "metadata": {},
   "outputs": [],
   "source": [
    "with open(target_config, 'w') as f:\n",
    "    json.dump(config, f, indent=2)"
   ]
  },
  {
   "cell_type": "markdown",
   "metadata": {},
   "source": [
    "## Run bmtk"
   ]
  },
  {
   "cell_type": "code",
   "execution_count": 16,
   "metadata": {},
   "outputs": [
    {
     "name": "stdout",
     "output_type": "stream",
     "text": [
      "2022-08-20 18:13:35,093 [INFO] Created log file\n",
      "2022-08-20 18:13:35,294 [INFO] Building cells.\n",
      "2022-08-20 18:13:35,736 [INFO] Building recurrent connections\n",
      "2022-08-20 18:13:35,741 [INFO] Building virtual cell stimulations for Source_spikes\n"
     ]
    }
   ],
   "source": [
    "from bmtk.simulator import bionet\n",
    "\n",
    "conf = bionet.Config.from_json('sim_details/config.json')\n",
    "conf.build_env()\n",
    "net = bionet.BioNetwork.from_config(conf)\n",
    "sim = bionet.BioSimulator.from_config(conf, network=net)"
   ]
  },
  {
   "cell_type": "markdown",
   "metadata": {},
   "source": [
    "### Observe cell"
   ]
  },
  {
   "cell_type": "code",
   "execution_count": 17,
   "metadata": {},
   "outputs": [],
   "source": [
    "cell_id = 0"
   ]
  },
  {
   "cell_type": "markdown",
   "metadata": {},
   "source": [
    "#### Record axial current"
   ]
  },
  {
   "cell_type": "code",
   "execution_count": 18,
   "metadata": {},
   "outputs": [
    {
     "name": "stdout",
     "output_type": "stream",
     "text": [
      "2022-08-20 18:13:35,950 [INFO] Running simulation for 30.000 ms with the time step 0.025 ms\n",
      "2022-08-20 18:13:35,951 [INFO] Starting timestep: 0 at t_sim: 0.000 ms\n",
      "2022-08-20 18:13:35,952 [INFO] Block save every 1200 steps\n",
      "2022-08-20 18:13:39,504 [INFO]     step:1200 t_sim:30.00 ms\n",
      "2022-08-20 18:13:39,617 [INFO] Simulation completed in 3.668 seconds \n"
     ]
    }
   ],
   "source": [
    "from utils.currents.somaaxialcurrent import Soma_Axial_Current\n",
    "\n",
    "axial_current = Soma_Axial_Current(sim.net.get_cell_gid(cell_id).get_section(0),record_t=True)\n",
    "sim.run()"
   ]
  },
  {
   "cell_type": "markdown",
   "metadata": {},
   "source": [
    "#### Check morphology\n",
    "Function to plot morphology"
   ]
  },
  {
   "cell_type": "code",
   "execution_count": 19,
   "metadata": {},
   "outputs": [],
   "source": [
    "from mpl_toolkits import mplot3d\n",
    "from mpl_toolkits.axes_grid1.axes_divider import make_axes_locatable\n",
    "from matplotlib import cm\n",
    "import matplotlib.pyplot as plt\n",
    "%matplotlib notebook\n",
    "\n",
    "def plot_morphology(network,gid=0,rotated=True,figsize=(8,6),ax=None):\n",
    "    cell = network.get_cell_gid(gid)\n",
    "    morph = cell.morphology\n",
    "    if rotated:\n",
    "        coords = cell.get_seg_coords()\n",
    "    else:\n",
    "        coords = morph.seg_coords\n",
    "    stype = morph.seg_prop['type'].astype(int)-1\n",
    "    st = list(morph.sec_type_swc.keys())[::2]\n",
    "    ilab = [list(stype).index(i) for i in range(len(st))]\n",
    "    clr = ['g','r','b','c']\n",
    "    if ax is None:\n",
    "        print(cell.morphology_file)\n",
    "        fig = plt.figure(figsize=figsize)\n",
    "        ax = plt.axes(projection='3d')\n",
    "    else:\n",
    "        fig = ax.figure\n",
    "        fig.set_size_inches(figsize)\n",
    "    for i in range(stype.size):\n",
    "        label = st[ilab.index(i)] if i in ilab else None\n",
    "        if stype[i]==0:\n",
    "            ax.scatter(*coords['p05'][:,i].tolist(),c=clr[0],s=30,label=label)\n",
    "        else:\n",
    "            ax.plot3D(*[[coords['p0'][j,i],coords['p1'][j,i]] for j in range(3)],\n",
    "                      color=clr[stype[i]],label=label)\n",
    "    ax.legend(loc=1)\n",
    "    ax.set_xlabel('x')\n",
    "    ax.set_ylabel('y')\n",
    "    ax.set_zlabel('z')\n",
    "    return fig, ax"
   ]
  },
  {
   "cell_type": "code",
   "execution_count": 20,
   "metadata": {},
   "outputs": [],
   "source": [
    "# %matplotlib notebook\n",
    "\n",
    "# _ = plot_morphology(net,cell_id,rotated=True)"
   ]
  },
  {
   "cell_type": "markdown",
   "metadata": {},
   "source": [
    "Check diameters"
   ]
  },
  {
   "cell_type": "markdown",
   "metadata": {},
   "source": [
    "## Check Results"
   ]
  },
  {
   "cell_type": "code",
   "execution_count": 21,
   "metadata": {},
   "outputs": [],
   "source": [
    "import h5py\n",
    "import numpy as np\n",
    "import pandas as pd\n",
    "import os\n",
    "\n",
    "outpath = 'sim_details/output/'\n",
    "time_window_save = [syn_time - 2., syn_time + 12.]"
   ]
  },
  {
   "cell_type": "markdown",
   "metadata": {},
   "source": [
    "### Check membrane voltage"
   ]
  },
  {
   "cell_type": "code",
   "execution_count": 22,
   "metadata": {},
   "outputs": [
    {
     "data": {
      "image/png": "[encoded data removed]",
      "text/plain": [
       "<Figure size 432x288 with 1 Axes>"
      ]
     },
     "metadata": {
      "needs_background": "light"
     },
     "output_type": "display_data"
    }
   ],
   "source": [
    "filename = 'v_report.h5'\n",
    "v_file = outpath + filename\n",
    "with h5py.File(v_file,'r') as v_f:\n",
    "    idx = v_f['report/Cell/mapping/node_ids'][()].tolist().index(cell_id)\n",
    "    idx = slice(*v_f['report/Cell/mapping/index_pointer'][()][[idx, idx+1]])\n",
    "    V = v_f['report/Cell/data'][()][:,idx]\n",
    "    t = np.arange(*v_f['report/Cell/mapping/time']) # array of time\n",
    "\n",
    "import matplotlib.pyplot as plt\n",
    "%matplotlib inline\n",
    "\n",
    "plt.figure()\n",
    "plt.plot(t,V)\n",
    "plt.xlabel('time (ms)')\n",
    "plt.ylabel('membrane voltage (mV)')\n",
    "plt.show()"
   ]
  },
  {
   "cell_type": "markdown",
   "metadata": {},
   "source": [
    "### Check axial currents"
   ]
  },
  {
   "cell_type": "code",
   "execution_count": 23,
   "metadata": {},
   "outputs": [
    {
     "data": {
      "image/png": "[encoded data removed]",
      "text/plain": [
       "<Figure size 921.6x345.6 with 2 Axes>"
      ]
     },
     "metadata": {
      "needs_background": "light"
     },
     "output_type": "display_data"
    },
    {
     "data": {
      "image/png": "[encoded data removed]",
      "text/plain": [
       "<Figure size 432x288 with 1 Axes>"
      ]
     },
     "metadata": {
      "needs_background": "light"
     },
     "output_type": "display_data"
    },
    {
     "data": {
      "image/png": "[encoded data removed]",
      "text/plain": [
       "<Figure size 432x288 with 1 Axes>"
      ]
     },
     "metadata": {
      "needs_background": "light"
     },
     "output_type": "display_data"
    }
   ],
   "source": [
    "t = axial_current.t()\n",
    "ac = axial_current.get_current()\n",
    "\n",
    "ac_dend = ac['dend'].T\n",
    "plt.figure(figsize=(12.8, 4.8))\n",
    "plt.subplot(121)\n",
    "plt.plot(t,ac_dend)\n",
    "plt.xlabel('time (ms)')\n",
    "plt.ylabel('Axial current (nA)')\n",
    "plt.title('soma to {} basal dendrites'.format(ac_dend.shape[1]))\n",
    "plt.subplot(122)\n",
    "plt.plot(t,np.mean(ac_dend,axis=1))\n",
    "plt.xlabel('time (ms)')\n",
    "plt.ylabel('Axial current (nA)')\n",
    "plt.title('soma to basal dendrite averaged')\n",
    "plt.show()\n",
    "\n",
    "ac_apic = ac['apic'].T\n",
    "plt.figure()\n",
    "plt.plot(t,ac_apic)\n",
    "plt.xlabel('time (ms)')\n",
    "plt.ylabel('Axial current (nA)')\n",
    "plt.title('soma to apical dendrite')\n",
    "plt.show()\n",
    "\n",
    "ac_axon = ac['axon'].T\n",
    "plt.figure()\n",
    "plt.plot(t,ac_axon)\n",
    "plt.xlabel('time (ms)')\n",
    "plt.ylabel('Axial current (nA)')\n",
    "plt.title('soma to axon')\n",
    "plt.show()"
   ]
  },
  {
   "cell_type": "markdown",
   "metadata": {},
   "source": [
    "### Check LFP"
   ]
  },
  {
   "cell_type": "code",
   "execution_count": 24,
   "metadata": {},
   "outputs": [],
   "source": [
    "from scipy import signal\n",
    "\n",
    "if Record_im:\n",
    "    filename = 'ecp.h5'\n",
    "    ecp_file = outpath + filename\n",
    "    with h5py.File(ecp_file,'r') as ecp_f:\n",
    "        lfp = ecp_f['ecp/data'][()]\n",
    "        t = np.arange(*ecp_f['ecp/time']) # array of time\n",
    "        dt = ecp_f['ecp/time'][2]\n",
    "\n",
    "    filt_b,filt_a = signal.butter(2,100,'hp',fs=1000/dt)\n",
    "    lfp_filt = signal.lfilter(filt_b,filt_a,lfp,axis=0)\n",
    "    t_idx = (t>=time_window_save[0]) & (t<=time_window_save[1])"
   ]
  },
  {
   "cell_type": "code",
   "execution_count": 25,
   "metadata": {},
   "outputs": [
    {
     "data": {
      "image/png": "[encoded data removed]",
      "text/plain": [
       "<Figure size 432x288 with 1 Axes>"
      ]
     },
     "metadata": {
      "needs_background": "light"
     },
     "output_type": "display_data"
    },
    {
     "data": {
      "image/png": "[encoded data removed]",
      "text/plain": [
       "<Figure size 432x288 with 1 Axes>"
      ]
     },
     "metadata": {
      "needs_background": "light"
     },
     "output_type": "display_data"
    }
   ],
   "source": [
    "from utils.plotting.plot_results import *\n",
    "\n",
    "if Record_im:\n",
    "    idx = (t>=0) & (t<=30)\n",
    "\n",
    "    fig,ax = plot_lfp_traces(t[idx],lfp[idx,:],\n",
    "                             fontsize=15,labelpad=0,ticksize=15,tick_length=3,nbins=5)\n",
    "    ax.set_title('LFP from all electrodes')\n",
    "\n",
    "    fig,ax = plot_lfp_traces(t[idx],lfp_filt[idx,:],\n",
    "                             fontsize=15,labelpad=0,ticksize=15,tick_length=3,nbins=5)\n",
    "    ax.set_title('Filtered LFP')"
   ]
  },
  {
   "cell_type": "code",
   "execution_count": 26,
   "metadata": {},
   "outputs": [
    {
     "name": "stdout",
     "output_type": "stream",
     "text": [
      "Using column at x = -8 um\n"
     ]
    },
    {
     "data": {
      "image/png": "[encoded data removed]",
      "text/plain": [
       "<Figure size 432x288 with 2 Axes>"
      ]
     },
     "metadata": {
      "needs_background": "light"
     },
     "output_type": "display_data"
    }
   ],
   "source": [
    "if Record_im:\n",
    "    window = 4.4\n",
    "    tstart = 12.7\n",
    "    # tstart = 10.5 # no basal\n",
    "    idx = (t>=tstart) & (t<=tstart+window)\n",
    "\n",
    "    vlim = 'auto'\n",
    "    # vlim = [-0.0005,0.0005]\n",
    "    ylim = [-200,800]\n",
    "\n",
    "    x_dist = np.unique(elec_pos[:,0])\n",
    "    ix = 1\n",
    "    e_idx = (elec_pos[:,0]==x_dist[ix]) & (elec_pos[:,1]>=ylim[0]) & (elec_pos[:,1]<=ylim[1])\n",
    "    print('Using column at x = %g um' % (x_dist[ix]))\n",
    "\n",
    "    fig,ax = plot_lfp_heatmap(t[idx],elec_pos[e_idx, 1],\n",
    "                              lfp_filt[idx][:, e_idx],vlim=vlim,\n",
    "                              fontsize=15,labelpad=0,ticksize=10,nbins=5)"
   ]
  },
  {
   "cell_type": "markdown",
   "metadata": {},
   "source": [
    "#### Save LFP to h5 file"
   ]
  },
  {
   "cell_type": "code",
   "execution_count": 27,
   "metadata": {},
   "outputs": [],
   "source": [
    "# if Record_im:\n",
    "#     lfp_file_name = 'lfp_result/' + model_name + '_h' + str(h) + '.h5'\n",
    "#     with h5py.File(lfp_file_name, 'w') as hf:\n",
    "#         hf.attrs['dt'] = dt\n",
    "#         hf.create_dataset('data',data=lfp_filt[t_idx,:])\n",
    "#         for dend, AC in ac.items():\n",
    "#             hf.create_dataset('axial_current/'+dend,data=AC[:,t_idx])"
   ]
  },
  {
   "cell_type": "markdown",
   "metadata": {},
   "source": [
    "## Check morphology"
   ]
  },
  {
   "cell_type": "markdown",
   "metadata": {},
   "source": [
    "#### Get segment coordinates for given cell and calculate electrotonic distance"
   ]
  },
  {
   "cell_type": "code",
   "execution_count": 28,
   "metadata": {},
   "outputs": [],
   "source": [
    "cell = sim.net.get_cell_gid(cell_id)\n",
    "\n",
    "morph = cell.morphology\n",
    "seg_coords = {}\n",
    "seg_coords['dl'] = (morph.seg_coords['p1']-morph.seg_coords['p0']).T\n",
    "seg_coords['pc'] = morph.seg_coords['p05'].T\n",
    "seg_coords['r'] = np.fmax(morph.seg_coords['d0'], morph.seg_coords['d1'])/2"
   ]
  },
  {
   "cell_type": "code",
   "execution_count": 29,
   "metadata": {},
   "outputs": [
    {
     "name": "stdout",
     "output_type": "stream",
     "text": [
      "65.37087571750126 0.0\n"
     ]
    }
   ],
   "source": [
    "from utils.metrics.measure_segment_distance import measure_segment_distance\n",
    "\n",
    "soma = cell.hobj.soma[0]\n",
    "section_list = cell._secs_by_id\n",
    "sec_type = [morph.sec_type_swc[sec.name().split('.')[1][:4]] for sec in section_list]\n",
    "freq = 0 # Hz\n",
    "\n",
    "seg_prop, Rin, Rin_pha = measure_segment_distance(soma, section_list, sec_type, freq, extracellular_mechanism=Record_im)\n",
    "print(Rin, Rin_pha) # Megohms, rad"
   ]
  },
  {
   "cell_type": "code",
   "execution_count": 30,
   "metadata": {},
   "outputs": [],
   "source": [
    "morph_file_name = 'lfp_result/' + model_name + '_SegProp.h5'\n",
    "with h5py.File(morph_file_name, 'w') as hf:\n",
    "    grp = hf.create_group('seg_prop')\n",
    "    for key, value in seg_prop.items():\n",
    "        grp.create_dataset(key, data=value)"
   ]
  },
  {
   "cell_type": "markdown",
   "metadata": {},
   "source": [
    "#### Stretch the cell to make it circularly symmetric"
   ]
  },
  {
   "cell_type": "code",
   "execution_count": 31,
   "metadata": {},
   "outputs": [],
   "source": [
    "from sklearn.decomposition import PCA\n",
    "from copy import deepcopy\n",
    "\n",
    "Strech = False\n",
    "\n",
    "if Strech:\n",
    "    pca = PCA()\n",
    "    basal_idx = (seg_prop['swc_type']==3) | (seg_prop['swc_type']==4)\n",
    "    pca.fit(seg_coords['pc'][basal_idx][:,[0,2]])\n",
    "    z_scale = (pca.explained_variance_[0] / pca.explained_variance_[1]) ** 0.5\n",
    "    seg_coords_stretch = deepcopy(seg_coords)\n",
    "    seg_coords_stretch['dl'][:, 2] *= z_scale\n",
    "    seg_coords_stretch['pc'][:, 2] *= z_scale"
   ]
  },
  {
   "cell_type": "markdown",
   "metadata": {},
   "source": [
    "### Check transmembrane currents"
   ]
  },
  {
   "cell_type": "markdown",
   "metadata": {},
   "source": [
    "#### Collect transmembrane currents and save to h5 file"
   ]
  },
  {
   "cell_type": "code",
   "execution_count": 32,
   "metadata": {},
   "outputs": [],
   "source": [
    "if Record_im:\n",
    "    filename = 'imem.h5'\n",
    "    im_file = outpath + filename\n",
    "\n",
    "    with h5py.File(im_file,'r') as im_f:\n",
    "        dt = im_f['report/Cell/mapping/time'][2]\n",
    "        t = np.arange(*im_f['report/Cell/mapping/time'])\n",
    "        t_idx = (t>=time_window_save[0]) & (t<=time_window_save[1])\n",
    "        idx = im_f['report/Cell/mapping/node_ids'][()].tolist().index(cell_id)\n",
    "        idx = slice(*im_f['report/Cell/mapping/index_pointer'][()][[idx, idx+1]])\n",
    "        im = im_f['report/Cell/data'][()][t_idx, idx].T\n",
    "\n",
    "    im_file_name = 'lfp_result/' + model_name + '_Im.h5'\n",
    "    with h5py.File(im_file_name, 'w') as hf:\n",
    "        hf.attrs['dt'] = dt\n",
    "        hf.create_dataset('data', data=im)\n",
    "        grp = hf.create_group('seg_coords')\n",
    "        for key, value in seg_coords.items():\n",
    "            grp.create_dataset(key, data=value)\n",
    "\n",
    "    if Strech:\n",
    "        im_strch_file_name = 'lfp_result/' + model_name + '_Im_strch.h5'\n",
    "        with h5py.File(im_strch_file_name, 'w') as hf:\n",
    "            hf.attrs['dt'] = dt\n",
    "            hf.create_dataset('data', data=im)\n",
    "            grp = hf.create_group('seg_coords')\n",
    "            for key, value in seg_coords_stretch.items():\n",
    "                grp.create_dataset(key, data=value)"
   ]
  },
  {
   "cell_type": "code",
   "execution_count": null,
   "metadata": {},
   "outputs": [],
   "source": []
  }
 ],
 "metadata": {
  "kernelspec": {
   "display_name": "Python 3 (ipykernel)",
   "language": "python",
   "name": "python3"
  },
  "language_info": {
   "codemirror_mode": {
    "name": "ipython",
    "version": 3
   },
   "file_extension": ".py",
   "mimetype": "text/x-python",
   "name": "python",
   "nbconvert_exporter": "python",
   "pygments_lexer": "ipython3",
   "version": "3.7.4"
  }
 },
 "nbformat": 4,
 "nbformat_minor": 2
}
