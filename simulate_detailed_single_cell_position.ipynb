{
 "cells": [
  {
   "cell_type": "markdown",
   "metadata": {},
   "source": [
    "## Setup model"
   ]
  },
  {
   "cell_type": "markdown",
   "metadata": {},
   "source": [
    "### Initialize electrode locations"
   ]
  },
  {
   "cell_type": "code",
   "execution_count": 1,
   "metadata": {},
   "outputs": [],
   "source": [
    "import numpy as np\n",
    "import pandas as pd\n",
    "import h5py\n",
    "\n",
    "# elec_pos = np.column_stack((np.zeros(96),np.linspace(-1900,1900,96),np.zeros(96)))\n",
    "\n",
    "# # save electrode position to file\n",
    "# elec_file = 'sim_details/linear_electrode.csv'\n",
    "# df = {'channel':np.arange(elec_pos.shape[0])}\n",
    "# df.update({x+'_pos':elec_pos[:,i] for i,x in enumerate(list('xyz'))})\n",
    "# df = pd.DataFrame(df)\n",
    "# df.to_csv(elec_file,sep=' ',index=False)\n",
    "\n",
    "with h5py.File('Electrode2D.h5', \"r\") as f:\n",
    "    elec_file = 'sim_details/linear_electrode.csv'  # It isn't linear but in order to not change configs I kept the name\n",
    "    elec_pos = np.hstack((f['coord'][:], np.zeros((384,1))))\n",
    "    df = {'channel':np.arange(elec_pos.shape[0])}\n",
    "    df.update({x+'_pos':elec_pos[:,i] for i,x in enumerate(list('xyz'))})\n",
    "    df = pd.DataFrame(df)\n",
    "    df.to_csv(elec_file,sep=' ',index=False)"
   ]
  },
  {
   "cell_type": "markdown",
   "metadata": {},
   "source": [
    "### Select model"
   ]
  },
  {
   "cell_type": "code",
   "execution_count": 2,
   "metadata": {},
   "outputs": [],
   "source": [
    "# model_name = 'neuronal_model_496930324'\n",
    "# syn_weight = 0.01\n",
    "# model_name = 'neuronal_model_497229089'\n",
    "# syn_weight = 0.03\n",
    "model_name = 'neuronal_model_491766131'\n",
    "syn_weight = 0.02\n",
    "\n",
    "dynamics_params = model_name + '.json'\n",
    "morphology = model_name+'_rotate.swc'"
   ]
  },
  {
   "cell_type": "markdown",
   "metadata": {},
   "source": [
    "### Copy model files"
   ]
  },
  {
   "cell_type": "code",
   "execution_count": 3,
   "metadata": {},
   "outputs": [],
   "source": [
    "import os, shutil\n",
    "\n",
    "# shutil.copy(model_name + '/fit_parameters.json','sim_details/components/biophysical_neuron_models/' + dynamics_params)"
   ]
  },
  {
   "cell_type": "markdown",
   "metadata": {},
   "source": [
    "### Select translation distance and rotation angles, and convert to euler angles in bmtk"
   ]
  },
  {
   "cell_type": "code",
   "execution_count": 4,
   "metadata": {},
   "outputs": [],
   "source": [
    "import numpy as np\n",
    "from scipy.spatial.transform import Rotation as R\n",
    "\n",
    "x = 0\n",
    "y = 350\n",
    "z = 80\n",
    "theta = 0.\n",
    "h = 0.7071\n",
    "phi = 0.\n",
    "\n",
    "Rot = R.from_euler('yxy',[theta,np.arccos(h),phi])\n",
    "rot_zyx = Rot.as_euler('zyx')"
   ]
  },
  {
   "cell_type": "code",
   "execution_count": 5,
   "metadata": {},
   "outputs": [],
   "source": [
    "# # block basal dendrite\n",
    "# model_name += '_nobasal'\n",
    "# dynamics_params = model_name + '.json'"
   ]
  },
  {
   "cell_type": "markdown",
   "metadata": {},
   "source": [
    "### Build bmtk network"
   ]
  },
  {
   "cell_type": "code",
   "execution_count": 6,
   "metadata": {},
   "outputs": [],
   "source": [
    "from bmtk.builder.networks import NetworkBuilder\n",
    "\n",
    "net = NetworkBuilder('Cell')\n",
    "net.add_nodes(cell_name = 'Cell',\n",
    "              positions = np.array([[x,y,z]]),\n",
    "              rotation_angle_xaxis = rot_zyx[2], # rotation cell\n",
    "              rotation_angle_yaxis = rot_zyx[1],\n",
    "              rotation_angle_zaxis = rot_zyx[0],\n",
    "#               orientation=quaternion, # this option seems not implemented in bmtk\n",
    "              potental = 'exc',\n",
    "              model_type = 'biophysical',\n",
    "              model_template = 'ctdb:Biophys1.hoc',\n",
    "              model_processing = 'aibs_allactive',\n",
    "              dynamics_params = dynamics_params, #from allen database\n",
    "              morphology = morphology) # rotated swc file"
   ]
  },
  {
   "cell_type": "code",
   "execution_count": 7,
   "metadata": {},
   "outputs": [],
   "source": [
    "net.build()\n",
    "net.save_nodes(output_dir='network')"
   ]
  },
  {
   "cell_type": "code",
   "execution_count": 8,
   "metadata": {},
   "outputs": [],
   "source": [
    "source = NetworkBuilder('Source')\n",
    "source.add_nodes(N=1,pop_name='Source',potential='exc',model_type='virtual')"
   ]
  },
  {
   "cell_type": "code",
   "execution_count": 9,
   "metadata": {},
   "outputs": [
    {
     "data": {
      "text/plain": [
       "<bmtk.builder.connection_map.ConnectionMap at 0x2c06b906d88>"
      ]
     },
     "execution_count": 9,
     "metadata": {},
     "output_type": "execute_result"
    }
   ],
   "source": [
    "source.add_edges(source={'pop_name':'Source'},target=net.nodes(),\n",
    "                   connection_rule=1,\n",
    "                   syn_weight=syn_weight,\n",
    "                   delay=0.0,\n",
    "                   weight_function=None,\n",
    "                   target_sections=['soma'],\n",
    "                   distance_range=[0.0,1000.0],\n",
    "                   dynamics_params='AMPA_ExcToExc.json',\n",
    "                   model_template='exp2syn')"
   ]
  },
  {
   "cell_type": "code",
   "execution_count": 10,
   "metadata": {},
   "outputs": [],
   "source": [
    "source.build()\n",
    "source.save_nodes(output_dir='network')\n",
    "source.save_edges(output_dir='network')"
   ]
  },
  {
   "cell_type": "markdown",
   "metadata": {},
   "source": [
    "#### Synaptic input spike"
   ]
  },
  {
   "cell_type": "code",
   "execution_count": 11,
   "metadata": {},
   "outputs": [],
   "source": [
    "import pandas as pd\n",
    "\n",
    "spike = pd.DataFrame(data={'node_ids':[0],'timestamps':[10.0],'population':['Source']})\n",
    "spike.to_csv('sim_details/synaptic_input.csv',sep=' ',index=False)"
   ]
  },
  {
   "cell_type": "markdown",
   "metadata": {},
   "source": [
    "### Build"
   ]
  },
  {
   "cell_type": "code",
   "execution_count": 12,
   "metadata": {},
   "outputs": [
    {
     "name": "stderr",
     "output_type": "stream",
     "text": [
      "ERROR:bmtk.utils.sim_setup:  Was unable to compile mechanism in D:\\reserch_temp\\detailed-single-cell\\sim_details\\components\\mechanisms\n"
     ]
    }
   ],
   "source": [
    "from bmtk.utils.sim_setup import build_env_bionet\n",
    "\n",
    "build_env_bionet(base_dir='sim_details',\n",
    "                 network_dir='network',\n",
    "                 tstop=30.0, dt=0.025,\n",
    "                 v_init=-91.63188171386719, # use e_pas in dynamics_params file\n",
    "                 report_vars=['v','ecp'],\n",
    "                 spikes_inputs=[('Source','sim_details/synaptic_input.csv')],\n",
    "                 config_file = 'config.json',\n",
    "                 include_examples=True,    # Copies components files\n",
    "                 compile_mechanisms=True   # Will try to compile NEURON mechanisms\n",
    "                )"
   ]
  },
  {
   "cell_type": "markdown",
   "metadata": {},
   "source": [
    "Remember to add 'ecp_report' module to the simulation_config.json file. See example in the config file in the root directory."
   ]
  },
  {
   "cell_type": "code",
   "execution_count": 13,
   "metadata": {},
   "outputs": [
    {
     "data": {
      "text/plain": [
       "'sim_details/simulation_config.json'"
      ]
     },
     "execution_count": 13,
     "metadata": {},
     "output_type": "execute_result"
    }
   ],
   "source": [
    "import os, shutil\n",
    "shutil.copy('simulation_config.json','sim_details/simulation_config.json')"
   ]
  },
  {
   "cell_type": "markdown",
   "metadata": {},
   "source": [
    "### Run bmtk"
   ]
  },
  {
   "cell_type": "code",
   "execution_count": 14,
   "metadata": {},
   "outputs": [
    {
     "name": "stdout",
     "output_type": "stream",
     "text": [
      "2022-07-15 16:51:54,709 [INFO] Created log file\n"
     ]
    },
    {
     "name": "stderr",
     "output_type": "stream",
     "text": [
      "INFO:NEURONIOUtils:Created log file\n"
     ]
    },
    {
     "name": "stdout",
     "output_type": "stream",
     "text": [
      "2022-07-15 16:51:54,843 [INFO] Building cells.\n"
     ]
    },
    {
     "name": "stderr",
     "output_type": "stream",
     "text": [
      "INFO:NEURONIOUtils:Building cells.\n"
     ]
    },
    {
     "name": "stdout",
     "output_type": "stream",
     "text": [
      "2022-07-15 16:51:55,161 [INFO] Building recurrent connections\n"
     ]
    },
    {
     "name": "stderr",
     "output_type": "stream",
     "text": [
      "INFO:NEURONIOUtils:Building recurrent connections\n"
     ]
    },
    {
     "name": "stdout",
     "output_type": "stream",
     "text": [
      "2022-07-15 16:51:55,167 [INFO] Building virtual cell stimulations for Source_spikes\n"
     ]
    },
    {
     "name": "stderr",
     "output_type": "stream",
     "text": [
      "INFO:NEURONIOUtils:Building virtual cell stimulations for Source_spikes\n"
     ]
    }
   ],
   "source": [
    "from bmtk.simulator import bionet\n",
    "\n",
    "conf = bionet.Config.from_json('sim_details/config.json')\n",
    "conf.build_env()\n",
    "net = bionet.BioNetwork.from_config(conf)\n",
    "sim = bionet.BioSimulator.from_config(conf, network=net)"
   ]
  },
  {
   "cell_type": "markdown",
   "metadata": {},
   "source": [
    "#### Record axial current"
   ]
  },
  {
   "cell_type": "code",
   "execution_count": 15,
   "metadata": {},
   "outputs": [
    {
     "name": "stdout",
     "output_type": "stream",
     "text": [
      "2022-07-15 16:51:55,307 [INFO] Running simulation for 30.000 ms with the time step 0.025 ms\n"
     ]
    },
    {
     "name": "stderr",
     "output_type": "stream",
     "text": [
      "INFO:NEURONIOUtils:Running simulation for 30.000 ms with the time step 0.025 ms\n"
     ]
    },
    {
     "name": "stdout",
     "output_type": "stream",
     "text": [
      "2022-07-15 16:51:55,309 [INFO] Starting timestep: 0 at t_sim: 0.000 ms\n"
     ]
    },
    {
     "name": "stderr",
     "output_type": "stream",
     "text": [
      "INFO:NEURONIOUtils:Starting timestep: 0 at t_sim: 0.000 ms\n"
     ]
    },
    {
     "name": "stdout",
     "output_type": "stream",
     "text": [
      "2022-07-15 16:51:55,313 [INFO] Block save every 1200 steps\n"
     ]
    },
    {
     "name": "stderr",
     "output_type": "stream",
     "text": [
      "INFO:NEURONIOUtils:Block save every 1200 steps\n"
     ]
    },
    {
     "name": "stdout",
     "output_type": "stream",
     "text": [
      "2022-07-15 16:51:58,351 [INFO]     step:1200 t_sim:30.00 ms\n"
     ]
    },
    {
     "name": "stderr",
     "output_type": "stream",
     "text": [
      "INFO:NEURONIOUtils:    step:1200 t_sim:30.00 ms\n"
     ]
    },
    {
     "name": "stdout",
     "output_type": "stream",
     "text": [
      "2022-07-15 16:51:58,419 [INFO] Simulation completed in 3.111 seconds \n"
     ]
    },
    {
     "name": "stderr",
     "output_type": "stream",
     "text": [
      "INFO:NEURONIOUtils:Simulation completed in 3.111 seconds \n"
     ]
    }
   ],
   "source": [
    "from utils.currents.somaaxialcurrent import Soma_Axial_Current\n",
    "\n",
    "axial_current = Soma_Axial_Current(sim.net.get_cell_gid(0).get_section(0),record_t=True)\n",
    "sim.run()"
   ]
  },
  {
   "cell_type": "markdown",
   "metadata": {},
   "source": [
    "#### Check morphology\n",
    "Function to plot morphology"
   ]
  },
  {
   "cell_type": "code",
   "execution_count": 16,
   "metadata": {},
   "outputs": [],
   "source": [
    "from mpl_toolkits import mplot3d\n",
    "from mpl_toolkits.axes_grid1.axes_divider import make_axes_locatable\n",
    "from matplotlib import cm\n",
    "import matplotlib.pyplot as plt\n",
    "%matplotlib notebook\n",
    "\n",
    "def plot_morphology(network,gid=0,rotated=True,figsize=(8,6),ax=None):\n",
    "    cell = network.get_cell_gid(gid)\n",
    "    morph = cell.morphology\n",
    "    if rotated:\n",
    "        coords = cell.get_seg_coords()\n",
    "    else:\n",
    "        coords = morph.seg_coords\n",
    "    stype = morph.seg_prop['type'].astype(int)-1\n",
    "    st = list(morph.sec_type_swc.keys())[::2]\n",
    "    ilab = [list(stype).index(i) for i in range(len(st))]\n",
    "    clr = ['g','r','b','c']\n",
    "    if ax is None:\n",
    "        print(cell.morphology_file)\n",
    "        fig = plt.figure(figsize=figsize)\n",
    "        ax = plt.axes(projection='3d')\n",
    "    else:\n",
    "        fig = ax.figure\n",
    "        fig.set_size_inches(figsize)\n",
    "    for i in range(stype.size):\n",
    "        label = st[ilab.index(i)] if i in ilab else None\n",
    "        if stype[i]==0:\n",
    "            ax.scatter(*coords['p05'][:,i].tolist(),c=clr[0],s=30,label=label)\n",
    "        else:\n",
    "            ax.plot3D(*[[coords['p0'][j,i],coords['p1'][j,i]] for j in range(3)],\n",
    "                      color=clr[stype[i]],label=label)\n",
    "    ax.legend(loc=1)\n",
    "    ax.set_xlabel('x')\n",
    "    ax.set_ylabel('y')\n",
    "    ax.set_zlabel('z')\n",
    "    return fig, ax"
   ]
  },
  {
   "cell_type": "code",
   "execution_count": 26,
   "metadata": {},
   "outputs": [
    {
     "name": "stdout",
     "output_type": "stream",
     "text": [
      "D:\\reserch_temp\\detailed-single-cell\\sim_details\\components\\morphologies\\neuronal_model_491766131_rotate.swc\n"
     ]
    },
    {
     "data": {
      "application/javascript": [
       "/* Put everything inside the global mpl namespace */\n",
       "/* global mpl */\n",
       "window.mpl = {};\n",
       "\n",
       "mpl.get_websocket_type = function () {\n",
       "    if (typeof WebSocket !== 'undefined') {\n",
       "        return WebSocket;\n",
       "    } else if (typeof MozWebSocket !== 'undefined') {\n",
       "        return MozWebSocket;\n",
       "    } else {\n",
       "        alert(\n",
       "            'Your browser does not have WebSocket support. ' +\n",
       "                'Please try Chrome, Safari or Firefox ≥ 6. ' +\n",
       "                'Firefox 4 and 5 are also supported but you ' +\n",
       "                'have to enable WebSockets in about:config.'\n",
       "        );\n",
       "    }\n",
       "};\n",
       "\n",
       "mpl.figure = function (figure_id, websocket, ondownload, parent_element) {\n",
       "    this.id = figure_id;\n",
       "\n",
       "    this.ws = websocket;\n",
       "\n",
       "    this.supports_binary = this.ws.binaryType !== undefined;\n",
       "\n",
       "    if (!this.supports_binary) {\n",
       "        var warnings = document.getElementById('mpl-warnings');\n",
       "        if (warnings) {\n",
       "            warnings.style.display = 'block';\n",
       "            warnings.textContent =\n",
       "                'This browser does not support binary websocket messages. ' +\n",
       "                'Performance may be slow.';\n",
       "        }\n",
       "    }\n",
       "\n",
       "    this.imageObj = new Image();\n",
       "\n",
       "    this.context = undefined;\n",
       "    this.message = undefined;\n",
       "    this.canvas = undefined;\n",
       "    this.rubberband_canvas = undefined;\n",
       "    this.rubberband_context = undefined;\n",
       "    this.format_dropdown = undefined;\n",
       "\n",
       "    this.image_mode = 'full';\n",
       "\n",
       "    this.root = document.createElement('div');\n",
       "    this.root.setAttribute('style', 'display: inline-block');\n",
       "    this._root_extra_style(this.root);\n",
       "\n",
       "    parent_element.appendChild(this.root);\n",
       "\n",
       "    this._init_header(this);\n",
       "    this._init_canvas(this);\n",
       "    this._init_toolbar(this);\n",
       "\n",
       "    var fig = this;\n",
       "\n",
       "    this.waiting = false;\n",
       "\n",
       "    this.ws.onopen = function () {\n",
       "        fig.send_message('supports_binary', { value: fig.supports_binary });\n",
       "        fig.send_message('send_image_mode', {});\n",
       "        if (fig.ratio !== 1) {\n",
       "            fig.send_message('set_dpi_ratio', { dpi_ratio: fig.ratio });\n",
       "        }\n",
       "        fig.send_message('refresh', {});\n",
       "    };\n",
       "\n",
       "    this.imageObj.onload = function () {\n",
       "        if (fig.image_mode === 'full') {\n",
       "            // Full images could contain transparency (where diff images\n",
       "            // almost always do), so we need to clear the canvas so that\n",
       "            // there is no ghosting.\n",
       "            fig.context.clearRect(0, 0, fig.canvas.width, fig.canvas.height);\n",
       "        }\n",
       "        fig.context.drawImage(fig.imageObj, 0, 0);\n",
       "    };\n",
       "\n",
       "    this.imageObj.onunload = function () {\n",
       "        fig.ws.close();\n",
       "    };\n",
       "\n",
       "    this.ws.onmessage = this._make_on_message_function(this);\n",
       "\n",
       "    this.ondownload = ondownload;\n",
       "};\n",
       "\n",
       "mpl.figure.prototype._init_header = function () {\n",
       "    var titlebar = document.createElement('div');\n",
       "    titlebar.classList =\n",
       "        'ui-dialog-titlebar ui-widget-header ui-corner-all ui-helper-clearfix';\n",
       "    var titletext = document.createElement('div');\n",
       "    titletext.classList = 'ui-dialog-title';\n",
       "    titletext.setAttribute(\n",
       "        'style',\n",
       "        'width: 100%; text-align: center; padding: 3px;'\n",
       "    );\n",
       "    titlebar.appendChild(titletext);\n",
       "    this.root.appendChild(titlebar);\n",
       "    this.header = titletext;\n",
       "};\n",
       "\n",
       "mpl.figure.prototype._canvas_extra_style = function (_canvas_div) {};\n",
       "\n",
       "mpl.figure.prototype._root_extra_style = function (_canvas_div) {};\n",
       "\n",
       "mpl.figure.prototype._init_canvas = function () {\n",
       "    var fig = this;\n",
       "\n",
       "    var canvas_div = (this.canvas_div = document.createElement('div'));\n",
       "    canvas_div.setAttribute(\n",
       "        'style',\n",
       "        'border: 1px solid #ddd;' +\n",
       "            'box-sizing: content-box;' +\n",
       "            'clear: both;' +\n",
       "            'min-height: 1px;' +\n",
       "            'min-width: 1px;' +\n",
       "            'outline: 0;' +\n",
       "            'overflow: hidden;' +\n",
       "            'position: relative;' +\n",
       "            'resize: both;'\n",
       "    );\n",
       "\n",
       "    function on_keyboard_event_closure(name) {\n",
       "        return function (event) {\n",
       "            return fig.key_event(event, name);\n",
       "        };\n",
       "    }\n",
       "\n",
       "    canvas_div.addEventListener(\n",
       "        'keydown',\n",
       "        on_keyboard_event_closure('key_press')\n",
       "    );\n",
       "    canvas_div.addEventListener(\n",
       "        'keyup',\n",
       "        on_keyboard_event_closure('key_release')\n",
       "    );\n",
       "\n",
       "    this._canvas_extra_style(canvas_div);\n",
       "    this.root.appendChild(canvas_div);\n",
       "\n",
       "    var canvas = (this.canvas = document.createElement('canvas'));\n",
       "    canvas.classList.add('mpl-canvas');\n",
       "    canvas.setAttribute('style', 'box-sizing: content-box;');\n",
       "\n",
       "    this.context = canvas.getContext('2d');\n",
       "\n",
       "    var backingStore =\n",
       "        this.context.backingStorePixelRatio ||\n",
       "        this.context.webkitBackingStorePixelRatio ||\n",
       "        this.context.mozBackingStorePixelRatio ||\n",
       "        this.context.msBackingStorePixelRatio ||\n",
       "        this.context.oBackingStorePixelRatio ||\n",
       "        this.context.backingStorePixelRatio ||\n",
       "        1;\n",
       "\n",
       "    this.ratio = (window.devicePixelRatio || 1) / backingStore;\n",
       "\n",
       "    var rubberband_canvas = (this.rubberband_canvas = document.createElement(\n",
       "        'canvas'\n",
       "    ));\n",
       "    rubberband_canvas.setAttribute(\n",
       "        'style',\n",
       "        'box-sizing: content-box; position: absolute; left: 0; top: 0; z-index: 1;'\n",
       "    );\n",
       "\n",
       "    // Apply a ponyfill if ResizeObserver is not implemented by browser.\n",
       "    if (this.ResizeObserver === undefined) {\n",
       "        if (window.ResizeObserver !== undefined) {\n",
       "            this.ResizeObserver = window.ResizeObserver;\n",
       "        } else {\n",
       "            var obs = _JSXTOOLS_RESIZE_OBSERVER({});\n",
       "            this.ResizeObserver = obs.ResizeObserver;\n",
       "        }\n",
       "    }\n",
       "\n",
       "    this.resizeObserverInstance = new this.ResizeObserver(function (entries) {\n",
       "        var nentries = entries.length;\n",
       "        for (var i = 0; i < nentries; i++) {\n",
       "            var entry = entries[i];\n",
       "            var width, height;\n",
       "            if (entry.contentBoxSize) {\n",
       "                if (entry.contentBoxSize instanceof Array) {\n",
       "                    // Chrome 84 implements new version of spec.\n",
       "                    width = entry.contentBoxSize[0].inlineSize;\n",
       "                    height = entry.contentBoxSize[0].blockSize;\n",
       "                } else {\n",
       "                    // Firefox implements old version of spec.\n",
       "                    width = entry.contentBoxSize.inlineSize;\n",
       "                    height = entry.contentBoxSize.blockSize;\n",
       "                }\n",
       "            } else {\n",
       "                // Chrome <84 implements even older version of spec.\n",
       "                width = entry.contentRect.width;\n",
       "                height = entry.contentRect.height;\n",
       "            }\n",
       "\n",
       "            // Keep the size of the canvas and rubber band canvas in sync with\n",
       "            // the canvas container.\n",
       "            if (entry.devicePixelContentBoxSize) {\n",
       "                // Chrome 84 implements new version of spec.\n",
       "                canvas.setAttribute(\n",
       "                    'width',\n",
       "                    entry.devicePixelContentBoxSize[0].inlineSize\n",
       "                );\n",
       "                canvas.setAttribute(\n",
       "                    'height',\n",
       "                    entry.devicePixelContentBoxSize[0].blockSize\n",
       "                );\n",
       "            } else {\n",
       "                canvas.setAttribute('width', width * fig.ratio);\n",
       "                canvas.setAttribute('height', height * fig.ratio);\n",
       "            }\n",
       "            canvas.setAttribute(\n",
       "                'style',\n",
       "                'width: ' + width + 'px; height: ' + height + 'px;'\n",
       "            );\n",
       "\n",
       "            rubberband_canvas.setAttribute('width', width);\n",
       "            rubberband_canvas.setAttribute('height', height);\n",
       "\n",
       "            // And update the size in Python. We ignore the initial 0/0 size\n",
       "            // that occurs as the element is placed into the DOM, which should\n",
       "            // otherwise not happen due to the minimum size styling.\n",
       "            if (fig.ws.readyState == 1 && width != 0 && height != 0) {\n",
       "                fig.request_resize(width, height);\n",
       "            }\n",
       "        }\n",
       "    });\n",
       "    this.resizeObserverInstance.observe(canvas_div);\n",
       "\n",
       "    function on_mouse_event_closure(name) {\n",
       "        return function (event) {\n",
       "            return fig.mouse_event(event, name);\n",
       "        };\n",
       "    }\n",
       "\n",
       "    rubberband_canvas.addEventListener(\n",
       "        'mousedown',\n",
       "        on_mouse_event_closure('button_press')\n",
       "    );\n",
       "    rubberband_canvas.addEventListener(\n",
       "        'mouseup',\n",
       "        on_mouse_event_closure('button_release')\n",
       "    );\n",
       "    rubberband_canvas.addEventListener(\n",
       "        'dblclick',\n",
       "        on_mouse_event_closure('dblclick')\n",
       "    );\n",
       "    // Throttle sequential mouse events to 1 every 20ms.\n",
       "    rubberband_canvas.addEventListener(\n",
       "        'mousemove',\n",
       "        on_mouse_event_closure('motion_notify')\n",
       "    );\n",
       "\n",
       "    rubberband_canvas.addEventListener(\n",
       "        'mouseenter',\n",
       "        on_mouse_event_closure('figure_enter')\n",
       "    );\n",
       "    rubberband_canvas.addEventListener(\n",
       "        'mouseleave',\n",
       "        on_mouse_event_closure('figure_leave')\n",
       "    );\n",
       "\n",
       "    canvas_div.addEventListener('wheel', function (event) {\n",
       "        if (event.deltaY < 0) {\n",
       "            event.step = 1;\n",
       "        } else {\n",
       "            event.step = -1;\n",
       "        }\n",
       "        on_mouse_event_closure('scroll')(event);\n",
       "    });\n",
       "\n",
       "    canvas_div.appendChild(canvas);\n",
       "    canvas_div.appendChild(rubberband_canvas);\n",
       "\n",
       "    this.rubberband_context = rubberband_canvas.getContext('2d');\n",
       "    this.rubberband_context.strokeStyle = '#000000';\n",
       "\n",
       "    this._resize_canvas = function (width, height, forward) {\n",
       "        if (forward) {\n",
       "            canvas_div.style.width = width + 'px';\n",
       "            canvas_div.style.height = height + 'px';\n",
       "        }\n",
       "    };\n",
       "\n",
       "    // Disable right mouse context menu.\n",
       "    this.rubberband_canvas.addEventListener('contextmenu', function (_e) {\n",
       "        event.preventDefault();\n",
       "        return false;\n",
       "    });\n",
       "\n",
       "    function set_focus() {\n",
       "        canvas.focus();\n",
       "        canvas_div.focus();\n",
       "    }\n",
       "\n",
       "    window.setTimeout(set_focus, 100);\n",
       "};\n",
       "\n",
       "mpl.figure.prototype._init_toolbar = function () {\n",
       "    var fig = this;\n",
       "\n",
       "    var toolbar = document.createElement('div');\n",
       "    toolbar.classList = 'mpl-toolbar';\n",
       "    this.root.appendChild(toolbar);\n",
       "\n",
       "    function on_click_closure(name) {\n",
       "        return function (_event) {\n",
       "            return fig.toolbar_button_onclick(name);\n",
       "        };\n",
       "    }\n",
       "\n",
       "    function on_mouseover_closure(tooltip) {\n",
       "        return function (event) {\n",
       "            if (!event.currentTarget.disabled) {\n",
       "                return fig.toolbar_button_onmouseover(tooltip);\n",
       "            }\n",
       "        };\n",
       "    }\n",
       "\n",
       "    fig.buttons = {};\n",
       "    var buttonGroup = document.createElement('div');\n",
       "    buttonGroup.classList = 'mpl-button-group';\n",
       "    for (var toolbar_ind in mpl.toolbar_items) {\n",
       "        var name = mpl.toolbar_items[toolbar_ind][0];\n",
       "        var tooltip = mpl.toolbar_items[toolbar_ind][1];\n",
       "        var image = mpl.toolbar_items[toolbar_ind][2];\n",
       "        var method_name = mpl.toolbar_items[toolbar_ind][3];\n",
       "\n",
       "        if (!name) {\n",
       "            /* Instead of a spacer, we start a new button group. */\n",
       "            if (buttonGroup.hasChildNodes()) {\n",
       "                toolbar.appendChild(buttonGroup);\n",
       "            }\n",
       "            buttonGroup = document.createElement('div');\n",
       "            buttonGroup.classList = 'mpl-button-group';\n",
       "            continue;\n",
       "        }\n",
       "\n",
       "        var button = (fig.buttons[name] = document.createElement('button'));\n",
       "        button.classList = 'mpl-widget';\n",
       "        button.setAttribute('role', 'button');\n",
       "        button.setAttribute('aria-disabled', 'false');\n",
       "        button.addEventListener('click', on_click_closure(method_name));\n",
       "        button.addEventListener('mouseover', on_mouseover_closure(tooltip));\n",
       "\n",
       "        var icon_img = document.createElement('img');\n",
       "        icon_img.src = '_images/' + image + '.png';\n",
       "        icon_img.srcset = '_images/' + image + '_large.png 2x';\n",
       "        icon_img.alt = tooltip;\n",
       "        button.appendChild(icon_img);\n",
       "\n",
       "        buttonGroup.appendChild(button);\n",
       "    }\n",
       "\n",
       "    if (buttonGroup.hasChildNodes()) {\n",
       "        toolbar.appendChild(buttonGroup);\n",
       "    }\n",
       "\n",
       "    var fmt_picker = document.createElement('select');\n",
       "    fmt_picker.classList = 'mpl-widget';\n",
       "    toolbar.appendChild(fmt_picker);\n",
       "    this.format_dropdown = fmt_picker;\n",
       "\n",
       "    for (var ind in mpl.extensions) {\n",
       "        var fmt = mpl.extensions[ind];\n",
       "        var option = document.createElement('option');\n",
       "        option.selected = fmt === mpl.default_extension;\n",
       "        option.innerHTML = fmt;\n",
       "        fmt_picker.appendChild(option);\n",
       "    }\n",
       "\n",
       "    var status_bar = document.createElement('span');\n",
       "    status_bar.classList = 'mpl-message';\n",
       "    toolbar.appendChild(status_bar);\n",
       "    this.message = status_bar;\n",
       "};\n",
       "\n",
       "mpl.figure.prototype.request_resize = function (x_pixels, y_pixels) {\n",
       "    // Request matplotlib to resize the figure. Matplotlib will then trigger a resize in the client,\n",
       "    // which will in turn request a refresh of the image.\n",
       "    this.send_message('resize', { width: x_pixels, height: y_pixels });\n",
       "};\n",
       "\n",
       "mpl.figure.prototype.send_message = function (type, properties) {\n",
       "    properties['type'] = type;\n",
       "    properties['figure_id'] = this.id;\n",
       "    this.ws.send(JSON.stringify(properties));\n",
       "};\n",
       "\n",
       "mpl.figure.prototype.send_draw_message = function () {\n",
       "    if (!this.waiting) {\n",
       "        this.waiting = true;\n",
       "        this.ws.send(JSON.stringify({ type: 'draw', figure_id: this.id }));\n",
       "    }\n",
       "};\n",
       "\n",
       "mpl.figure.prototype.handle_save = function (fig, _msg) {\n",
       "    var format_dropdown = fig.format_dropdown;\n",
       "    var format = format_dropdown.options[format_dropdown.selectedIndex].value;\n",
       "    fig.ondownload(fig, format);\n",
       "};\n",
       "\n",
       "mpl.figure.prototype.handle_resize = function (fig, msg) {\n",
       "    var size = msg['size'];\n",
       "    if (size[0] !== fig.canvas.width || size[1] !== fig.canvas.height) {\n",
       "        fig._resize_canvas(size[0], size[1], msg['forward']);\n",
       "        fig.send_message('refresh', {});\n",
       "    }\n",
       "};\n",
       "\n",
       "mpl.figure.prototype.handle_rubberband = function (fig, msg) {\n",
       "    var x0 = msg['x0'] / fig.ratio;\n",
       "    var y0 = (fig.canvas.height - msg['y0']) / fig.ratio;\n",
       "    var x1 = msg['x1'] / fig.ratio;\n",
       "    var y1 = (fig.canvas.height - msg['y1']) / fig.ratio;\n",
       "    x0 = Math.floor(x0) + 0.5;\n",
       "    y0 = Math.floor(y0) + 0.5;\n",
       "    x1 = Math.floor(x1) + 0.5;\n",
       "    y1 = Math.floor(y1) + 0.5;\n",
       "    var min_x = Math.min(x0, x1);\n",
       "    var min_y = Math.min(y0, y1);\n",
       "    var width = Math.abs(x1 - x0);\n",
       "    var height = Math.abs(y1 - y0);\n",
       "\n",
       "    fig.rubberband_context.clearRect(\n",
       "        0,\n",
       "        0,\n",
       "        fig.canvas.width / fig.ratio,\n",
       "        fig.canvas.height / fig.ratio\n",
       "    );\n",
       "\n",
       "    fig.rubberband_context.strokeRect(min_x, min_y, width, height);\n",
       "};\n",
       "\n",
       "mpl.figure.prototype.handle_figure_label = function (fig, msg) {\n",
       "    // Updates the figure title.\n",
       "    fig.header.textContent = msg['label'];\n",
       "};\n",
       "\n",
       "mpl.figure.prototype.handle_cursor = function (fig, msg) {\n",
       "    var cursor = msg['cursor'];\n",
       "    switch (cursor) {\n",
       "        case 0:\n",
       "            cursor = 'pointer';\n",
       "            break;\n",
       "        case 1:\n",
       "            cursor = 'default';\n",
       "            break;\n",
       "        case 2:\n",
       "            cursor = 'crosshair';\n",
       "            break;\n",
       "        case 3:\n",
       "            cursor = 'move';\n",
       "            break;\n",
       "    }\n",
       "    fig.rubberband_canvas.style.cursor = cursor;\n",
       "};\n",
       "\n",
       "mpl.figure.prototype.handle_message = function (fig, msg) {\n",
       "    fig.message.textContent = msg['message'];\n",
       "};\n",
       "\n",
       "mpl.figure.prototype.handle_draw = function (fig, _msg) {\n",
       "    // Request the server to send over a new figure.\n",
       "    fig.send_draw_message();\n",
       "};\n",
       "\n",
       "mpl.figure.prototype.handle_image_mode = function (fig, msg) {\n",
       "    fig.image_mode = msg['mode'];\n",
       "};\n",
       "\n",
       "mpl.figure.prototype.handle_history_buttons = function (fig, msg) {\n",
       "    for (var key in msg) {\n",
       "        if (!(key in fig.buttons)) {\n",
       "            continue;\n",
       "        }\n",
       "        fig.buttons[key].disabled = !msg[key];\n",
       "        fig.buttons[key].setAttribute('aria-disabled', !msg[key]);\n",
       "    }\n",
       "};\n",
       "\n",
       "mpl.figure.prototype.handle_navigate_mode = function (fig, msg) {\n",
       "    if (msg['mode'] === 'PAN') {\n",
       "        fig.buttons['Pan'].classList.add('active');\n",
       "        fig.buttons['Zoom'].classList.remove('active');\n",
       "    } else if (msg['mode'] === 'ZOOM') {\n",
       "        fig.buttons['Pan'].classList.remove('active');\n",
       "        fig.buttons['Zoom'].classList.add('active');\n",
       "    } else {\n",
       "        fig.buttons['Pan'].classList.remove('active');\n",
       "        fig.buttons['Zoom'].classList.remove('active');\n",
       "    }\n",
       "};\n",
       "\n",
       "mpl.figure.prototype.updated_canvas_event = function () {\n",
       "    // Called whenever the canvas gets updated.\n",
       "    this.send_message('ack', {});\n",
       "};\n",
       "\n",
       "// A function to construct a web socket function for onmessage handling.\n",
       "// Called in the figure constructor.\n",
       "mpl.figure.prototype._make_on_message_function = function (fig) {\n",
       "    return function socket_on_message(evt) {\n",
       "        if (evt.data instanceof Blob) {\n",
       "            var img = evt.data;\n",
       "            if (img.type !== 'image/png') {\n",
       "                /* FIXME: We get \"Resource interpreted as Image but\n",
       "                 * transferred with MIME type text/plain:\" errors on\n",
       "                 * Chrome.  But how to set the MIME type?  It doesn't seem\n",
       "                 * to be part of the websocket stream */\n",
       "                img.type = 'image/png';\n",
       "            }\n",
       "\n",
       "            /* Free the memory for the previous frames */\n",
       "            if (fig.imageObj.src) {\n",
       "                (window.URL || window.webkitURL).revokeObjectURL(\n",
       "                    fig.imageObj.src\n",
       "                );\n",
       "            }\n",
       "\n",
       "            fig.imageObj.src = (window.URL || window.webkitURL).createObjectURL(\n",
       "                img\n",
       "            );\n",
       "            fig.updated_canvas_event();\n",
       "            fig.waiting = false;\n",
       "            return;\n",
       "        } else if (\n",
       "            typeof evt.data === 'string' &&\n",
       "            evt.data.slice(0, 21) === 'data:image/png;base64'\n",
       "        ) {\n",
       "            fig.imageObj.src = evt.data;\n",
       "            fig.updated_canvas_event();\n",
       "            fig.waiting = false;\n",
       "            return;\n",
       "        }\n",
       "\n",
       "        var msg = JSON.parse(evt.data);\n",
       "        var msg_type = msg['type'];\n",
       "\n",
       "        // Call the  \"handle_{type}\" callback, which takes\n",
       "        // the figure and JSON message as its only arguments.\n",
       "        try {\n",
       "            var callback = fig['handle_' + msg_type];\n",
       "        } catch (e) {\n",
       "            console.log(\n",
       "                \"No handler for the '\" + msg_type + \"' message type: \",\n",
       "                msg\n",
       "            );\n",
       "            return;\n",
       "        }\n",
       "\n",
       "        if (callback) {\n",
       "            try {\n",
       "                // console.log(\"Handling '\" + msg_type + \"' message: \", msg);\n",
       "                callback(fig, msg);\n",
       "            } catch (e) {\n",
       "                console.log(\n",
       "                    \"Exception inside the 'handler_\" + msg_type + \"' callback:\",\n",
       "                    e,\n",
       "                    e.stack,\n",
       "                    msg\n",
       "                );\n",
       "            }\n",
       "        }\n",
       "    };\n",
       "};\n",
       "\n",
       "// from http://stackoverflow.com/questions/1114465/getting-mouse-location-in-canvas\n",
       "mpl.findpos = function (e) {\n",
       "    //this section is from http://www.quirksmode.org/js/events_properties.html\n",
       "    var targ;\n",
       "    if (!e) {\n",
       "        e = window.event;\n",
       "    }\n",
       "    if (e.target) {\n",
       "        targ = e.target;\n",
       "    } else if (e.srcElement) {\n",
       "        targ = e.srcElement;\n",
       "    }\n",
       "    if (targ.nodeType === 3) {\n",
       "        // defeat Safari bug\n",
       "        targ = targ.parentNode;\n",
       "    }\n",
       "\n",
       "    // pageX,Y are the mouse positions relative to the document\n",
       "    var boundingRect = targ.getBoundingClientRect();\n",
       "    var x = e.pageX - (boundingRect.left + document.body.scrollLeft);\n",
       "    var y = e.pageY - (boundingRect.top + document.body.scrollTop);\n",
       "\n",
       "    return { x: x, y: y };\n",
       "};\n",
       "\n",
       "/*\n",
       " * return a copy of an object with only non-object keys\n",
       " * we need this to avoid circular references\n",
       " * http://stackoverflow.com/a/24161582/3208463\n",
       " */\n",
       "function simpleKeys(original) {\n",
       "    return Object.keys(original).reduce(function (obj, key) {\n",
       "        if (typeof original[key] !== 'object') {\n",
       "            obj[key] = original[key];\n",
       "        }\n",
       "        return obj;\n",
       "    }, {});\n",
       "}\n",
       "\n",
       "mpl.figure.prototype.mouse_event = function (event, name) {\n",
       "    var canvas_pos = mpl.findpos(event);\n",
       "\n",
       "    if (name === 'button_press') {\n",
       "        this.canvas.focus();\n",
       "        this.canvas_div.focus();\n",
       "    }\n",
       "\n",
       "    var x = canvas_pos.x * this.ratio;\n",
       "    var y = canvas_pos.y * this.ratio;\n",
       "\n",
       "    this.send_message(name, {\n",
       "        x: x,\n",
       "        y: y,\n",
       "        button: event.button,\n",
       "        step: event.step,\n",
       "        guiEvent: simpleKeys(event),\n",
       "    });\n",
       "\n",
       "    /* This prevents the web browser from automatically changing to\n",
       "     * the text insertion cursor when the button is pressed.  We want\n",
       "     * to control all of the cursor setting manually through the\n",
       "     * 'cursor' event from matplotlib */\n",
       "    event.preventDefault();\n",
       "    return false;\n",
       "};\n",
       "\n",
       "mpl.figure.prototype._key_event_extra = function (_event, _name) {\n",
       "    // Handle any extra behaviour associated with a key event\n",
       "};\n",
       "\n",
       "mpl.figure.prototype.key_event = function (event, name) {\n",
       "    // Prevent repeat events\n",
       "    if (name === 'key_press') {\n",
       "        if (event.key === this._key) {\n",
       "            return;\n",
       "        } else {\n",
       "            this._key = event.key;\n",
       "        }\n",
       "    }\n",
       "    if (name === 'key_release') {\n",
       "        this._key = null;\n",
       "    }\n",
       "\n",
       "    var value = '';\n",
       "    if (event.ctrlKey && event.key !== 'Control') {\n",
       "        value += 'ctrl+';\n",
       "    }\n",
       "    else if (event.altKey && event.key !== 'Alt') {\n",
       "        value += 'alt+';\n",
       "    }\n",
       "    else if (event.shiftKey && event.key !== 'Shift') {\n",
       "        value += 'shift+';\n",
       "    }\n",
       "\n",
       "    value += 'k' + event.key;\n",
       "\n",
       "    this._key_event_extra(event, name);\n",
       "\n",
       "    this.send_message(name, { key: value, guiEvent: simpleKeys(event) });\n",
       "    return false;\n",
       "};\n",
       "\n",
       "mpl.figure.prototype.toolbar_button_onclick = function (name) {\n",
       "    if (name === 'download') {\n",
       "        this.handle_save(this, null);\n",
       "    } else {\n",
       "        this.send_message('toolbar_button', { name: name });\n",
       "    }\n",
       "};\n",
       "\n",
       "mpl.figure.prototype.toolbar_button_onmouseover = function (tooltip) {\n",
       "    this.message.textContent = tooltip;\n",
       "};\n",
       "\n",
       "///////////////// REMAINING CONTENT GENERATED BY embed_js.py /////////////////\n",
       "// prettier-ignore\n",
       "var _JSXTOOLS_RESIZE_OBSERVER=function(A){var t,i=new WeakMap,n=new WeakMap,a=new WeakMap,r=new WeakMap,o=new Set;function s(e){if(!(this instanceof s))throw new TypeError(\"Constructor requires 'new' operator\");i.set(this,e)}function h(){throw new TypeError(\"Function is not a constructor\")}function c(e,t,i,n){e=0 in arguments?Number(arguments[0]):0,t=1 in arguments?Number(arguments[1]):0,i=2 in arguments?Number(arguments[2]):0,n=3 in arguments?Number(arguments[3]):0,this.right=(this.x=this.left=e)+(this.width=i),this.bottom=(this.y=this.top=t)+(this.height=n),Object.freeze(this)}function d(){t=requestAnimationFrame(d);var s=new WeakMap,p=new Set;o.forEach((function(t){r.get(t).forEach((function(i){var r=t instanceof window.SVGElement,o=a.get(t),d=r?0:parseFloat(o.paddingTop),f=r?0:parseFloat(o.paddingRight),l=r?0:parseFloat(o.paddingBottom),u=r?0:parseFloat(o.paddingLeft),g=r?0:parseFloat(o.borderTopWidth),m=r?0:parseFloat(o.borderRightWidth),w=r?0:parseFloat(o.borderBottomWidth),b=u+f,F=d+l,v=(r?0:parseFloat(o.borderLeftWidth))+m,W=g+w,y=r?0:t.offsetHeight-W-t.clientHeight,E=r?0:t.offsetWidth-v-t.clientWidth,R=b+v,z=F+W,M=r?t.width:parseFloat(o.width)-R-E,O=r?t.height:parseFloat(o.height)-z-y;if(n.has(t)){var k=n.get(t);if(k[0]===M&&k[1]===O)return}n.set(t,[M,O]);var S=Object.create(h.prototype);S.target=t,S.contentRect=new c(u,d,M,O),s.has(i)||(s.set(i,[]),p.add(i)),s.get(i).push(S)}))})),p.forEach((function(e){i.get(e).call(e,s.get(e),e)}))}return s.prototype.observe=function(i){if(i instanceof window.Element){r.has(i)||(r.set(i,new Set),o.add(i),a.set(i,window.getComputedStyle(i)));var n=r.get(i);n.has(this)||n.add(this),cancelAnimationFrame(t),t=requestAnimationFrame(d)}},s.prototype.unobserve=function(i){if(i instanceof window.Element&&r.has(i)){var n=r.get(i);n.has(this)&&(n.delete(this),n.size||(r.delete(i),o.delete(i))),n.size||r.delete(i),o.size||cancelAnimationFrame(t)}},A.DOMRectReadOnly=c,A.ResizeObserver=s,A.ResizeObserverEntry=h,A}; // eslint-disable-line\n",
       "mpl.toolbar_items = [[\"Home\", \"Reset original view\", \"fa fa-home icon-home\", \"home\"], [\"Back\", \"Back to previous view\", \"fa fa-arrow-left icon-arrow-left\", \"back\"], [\"Forward\", \"Forward to next view\", \"fa fa-arrow-right icon-arrow-right\", \"forward\"], [\"\", \"\", \"\", \"\"], [\"Pan\", \"Left button pans, Right button zooms\\nx/y fixes axis, CTRL fixes aspect\", \"fa fa-arrows icon-move\", \"pan\"], [\"Zoom\", \"Zoom to rectangle\\nx/y fixes axis, CTRL fixes aspect\", \"fa fa-square-o icon-check-empty\", \"zoom\"], [\"\", \"\", \"\", \"\"], [\"Download\", \"Download plot\", \"fa fa-floppy-o icon-save\", \"download\"]];\n",
       "\n",
       "mpl.extensions = [\"eps\", \"jpeg\", \"pgf\", \"pdf\", \"png\", \"ps\", \"raw\", \"svg\", \"tif\"];\n",
       "\n",
       "mpl.default_extension = \"png\";/* global mpl */\n",
       "\n",
       "var comm_websocket_adapter = function (comm) {\n",
       "    // Create a \"websocket\"-like object which calls the given IPython comm\n",
       "    // object with the appropriate methods. Currently this is a non binary\n",
       "    // socket, so there is still some room for performance tuning.\n",
       "    var ws = {};\n",
       "\n",
       "    ws.binaryType = comm.kernel.ws.binaryType;\n",
       "    ws.readyState = comm.kernel.ws.readyState;\n",
       "    function updateReadyState(_event) {\n",
       "        if (comm.kernel.ws) {\n",
       "            ws.readyState = comm.kernel.ws.readyState;\n",
       "        } else {\n",
       "            ws.readyState = 3; // Closed state.\n",
       "        }\n",
       "    }\n",
       "    comm.kernel.ws.addEventListener('open', updateReadyState);\n",
       "    comm.kernel.ws.addEventListener('close', updateReadyState);\n",
       "    comm.kernel.ws.addEventListener('error', updateReadyState);\n",
       "\n",
       "    ws.close = function () {\n",
       "        comm.close();\n",
       "    };\n",
       "    ws.send = function (m) {\n",
       "        //console.log('sending', m);\n",
       "        comm.send(m);\n",
       "    };\n",
       "    // Register the callback with on_msg.\n",
       "    comm.on_msg(function (msg) {\n",
       "        //console.log('receiving', msg['content']['data'], msg);\n",
       "        var data = msg['content']['data'];\n",
       "        if (data['blob'] !== undefined) {\n",
       "            data = {\n",
       "                data: new Blob(msg['buffers'], { type: data['blob'] }),\n",
       "            };\n",
       "        }\n",
       "        // Pass the mpl event to the overridden (by mpl) onmessage function.\n",
       "        ws.onmessage(data);\n",
       "    });\n",
       "    return ws;\n",
       "};\n",
       "\n",
       "mpl.mpl_figure_comm = function (comm, msg) {\n",
       "    // This is the function which gets called when the mpl process\n",
       "    // starts-up an IPython Comm through the \"matplotlib\" channel.\n",
       "\n",
       "    var id = msg.content.data.id;\n",
       "    // Get hold of the div created by the display call when the Comm\n",
       "    // socket was opened in Python.\n",
       "    var element = document.getElementById(id);\n",
       "    var ws_proxy = comm_websocket_adapter(comm);\n",
       "\n",
       "    function ondownload(figure, _format) {\n",
       "        window.open(figure.canvas.toDataURL());\n",
       "    }\n",
       "\n",
       "    var fig = new mpl.figure(id, ws_proxy, ondownload, element);\n",
       "\n",
       "    // Call onopen now - mpl needs it, as it is assuming we've passed it a real\n",
       "    // web socket which is closed, not our websocket->open comm proxy.\n",
       "    ws_proxy.onopen();\n",
       "\n",
       "    fig.parent_element = element;\n",
       "    fig.cell_info = mpl.find_output_cell(\"<div id='\" + id + \"'></div>\");\n",
       "    if (!fig.cell_info) {\n",
       "        console.error('Failed to find cell for figure', id, fig);\n",
       "        return;\n",
       "    }\n",
       "    fig.cell_info[0].output_area.element.on(\n",
       "        'cleared',\n",
       "        { fig: fig },\n",
       "        fig._remove_fig_handler\n",
       "    );\n",
       "};\n",
       "\n",
       "mpl.figure.prototype.handle_close = function (fig, msg) {\n",
       "    var width = fig.canvas.width / fig.ratio;\n",
       "    fig.cell_info[0].output_area.element.off(\n",
       "        'cleared',\n",
       "        fig._remove_fig_handler\n",
       "    );\n",
       "    fig.resizeObserverInstance.unobserve(fig.canvas_div);\n",
       "\n",
       "    // Update the output cell to use the data from the current canvas.\n",
       "    fig.push_to_output();\n",
       "    var dataURL = fig.canvas.toDataURL();\n",
       "    // Re-enable the keyboard manager in IPython - without this line, in FF,\n",
       "    // the notebook keyboard shortcuts fail.\n",
       "    IPython.keyboard_manager.enable();\n",
       "    fig.parent_element.innerHTML =\n",
       "        '<img src=\"' + dataURL + '\" width=\"' + width + '\">';\n",
       "    fig.close_ws(fig, msg);\n",
       "};\n",
       "\n",
       "mpl.figure.prototype.close_ws = function (fig, msg) {\n",
       "    fig.send_message('closing', msg);\n",
       "    // fig.ws.close()\n",
       "};\n",
       "\n",
       "mpl.figure.prototype.push_to_output = function (_remove_interactive) {\n",
       "    // Turn the data on the canvas into data in the output cell.\n",
       "    var width = this.canvas.width / this.ratio;\n",
       "    var dataURL = this.canvas.toDataURL();\n",
       "    this.cell_info[1]['text/html'] =\n",
       "        '<img src=\"' + dataURL + '\" width=\"' + width + '\">';\n",
       "};\n",
       "\n",
       "mpl.figure.prototype.updated_canvas_event = function () {\n",
       "    // Tell IPython that the notebook contents must change.\n",
       "    IPython.notebook.set_dirty(true);\n",
       "    this.send_message('ack', {});\n",
       "    var fig = this;\n",
       "    // Wait a second, then push the new image to the DOM so\n",
       "    // that it is saved nicely (might be nice to debounce this).\n",
       "    setTimeout(function () {\n",
       "        fig.push_to_output();\n",
       "    }, 1000);\n",
       "};\n",
       "\n",
       "mpl.figure.prototype._init_toolbar = function () {\n",
       "    var fig = this;\n",
       "\n",
       "    var toolbar = document.createElement('div');\n",
       "    toolbar.classList = 'btn-toolbar';\n",
       "    this.root.appendChild(toolbar);\n",
       "\n",
       "    function on_click_closure(name) {\n",
       "        return function (_event) {\n",
       "            return fig.toolbar_button_onclick(name);\n",
       "        };\n",
       "    }\n",
       "\n",
       "    function on_mouseover_closure(tooltip) {\n",
       "        return function (event) {\n",
       "            if (!event.currentTarget.disabled) {\n",
       "                return fig.toolbar_button_onmouseover(tooltip);\n",
       "            }\n",
       "        };\n",
       "    }\n",
       "\n",
       "    fig.buttons = {};\n",
       "    var buttonGroup = document.createElement('div');\n",
       "    buttonGroup.classList = 'btn-group';\n",
       "    var button;\n",
       "    for (var toolbar_ind in mpl.toolbar_items) {\n",
       "        var name = mpl.toolbar_items[toolbar_ind][0];\n",
       "        var tooltip = mpl.toolbar_items[toolbar_ind][1];\n",
       "        var image = mpl.toolbar_items[toolbar_ind][2];\n",
       "        var method_name = mpl.toolbar_items[toolbar_ind][3];\n",
       "\n",
       "        if (!name) {\n",
       "            /* Instead of a spacer, we start a new button group. */\n",
       "            if (buttonGroup.hasChildNodes()) {\n",
       "                toolbar.appendChild(buttonGroup);\n",
       "            }\n",
       "            buttonGroup = document.createElement('div');\n",
       "            buttonGroup.classList = 'btn-group';\n",
       "            continue;\n",
       "        }\n",
       "\n",
       "        button = fig.buttons[name] = document.createElement('button');\n",
       "        button.classList = 'btn btn-default';\n",
       "        button.href = '#';\n",
       "        button.title = name;\n",
       "        button.innerHTML = '<i class=\"fa ' + image + ' fa-lg\"></i>';\n",
       "        button.addEventListener('click', on_click_closure(method_name));\n",
       "        button.addEventListener('mouseover', on_mouseover_closure(tooltip));\n",
       "        buttonGroup.appendChild(button);\n",
       "    }\n",
       "\n",
       "    if (buttonGroup.hasChildNodes()) {\n",
       "        toolbar.appendChild(buttonGroup);\n",
       "    }\n",
       "\n",
       "    // Add the status bar.\n",
       "    var status_bar = document.createElement('span');\n",
       "    status_bar.classList = 'mpl-message pull-right';\n",
       "    toolbar.appendChild(status_bar);\n",
       "    this.message = status_bar;\n",
       "\n",
       "    // Add the close button to the window.\n",
       "    var buttongrp = document.createElement('div');\n",
       "    buttongrp.classList = 'btn-group inline pull-right';\n",
       "    button = document.createElement('button');\n",
       "    button.classList = 'btn btn-mini btn-primary';\n",
       "    button.href = '#';\n",
       "    button.title = 'Stop Interaction';\n",
       "    button.innerHTML = '<i class=\"fa fa-power-off icon-remove icon-large\"></i>';\n",
       "    button.addEventListener('click', function (_evt) {\n",
       "        fig.handle_close(fig, {});\n",
       "    });\n",
       "    button.addEventListener(\n",
       "        'mouseover',\n",
       "        on_mouseover_closure('Stop Interaction')\n",
       "    );\n",
       "    buttongrp.appendChild(button);\n",
       "    var titlebar = this.root.querySelector('.ui-dialog-titlebar');\n",
       "    titlebar.insertBefore(buttongrp, titlebar.firstChild);\n",
       "};\n",
       "\n",
       "mpl.figure.prototype._remove_fig_handler = function (event) {\n",
       "    var fig = event.data.fig;\n",
       "    if (event.target !== this) {\n",
       "        // Ignore bubbled events from children.\n",
       "        return;\n",
       "    }\n",
       "    fig.close_ws(fig, {});\n",
       "};\n",
       "\n",
       "mpl.figure.prototype._root_extra_style = function (el) {\n",
       "    el.style.boxSizing = 'content-box'; // override notebook setting of border-box.\n",
       "};\n",
       "\n",
       "mpl.figure.prototype._canvas_extra_style = function (el) {\n",
       "    // this is important to make the div 'focusable\n",
       "    el.setAttribute('tabindex', 0);\n",
       "    // reach out to IPython and tell the keyboard manager to turn it's self\n",
       "    // off when our div gets focus\n",
       "\n",
       "    // location in version 3\n",
       "    if (IPython.notebook.keyboard_manager) {\n",
       "        IPython.notebook.keyboard_manager.register_events(el);\n",
       "    } else {\n",
       "        // location in version 2\n",
       "        IPython.keyboard_manager.register_events(el);\n",
       "    }\n",
       "};\n",
       "\n",
       "mpl.figure.prototype._key_event_extra = function (event, _name) {\n",
       "    var manager = IPython.notebook.keyboard_manager;\n",
       "    if (!manager) {\n",
       "        manager = IPython.keyboard_manager;\n",
       "    }\n",
       "\n",
       "    // Check for shift+enter\n",
       "    if (event.shiftKey && event.which === 13) {\n",
       "        this.canvas_div.blur();\n",
       "        // select the cell after this one\n",
       "        var index = IPython.notebook.find_cell_index(this.cell_info[0]);\n",
       "        IPython.notebook.select(index + 1);\n",
       "    }\n",
       "};\n",
       "\n",
       "mpl.figure.prototype.handle_save = function (fig, _msg) {\n",
       "    fig.ondownload(fig, null);\n",
       "};\n",
       "\n",
       "mpl.find_output_cell = function (html_output) {\n",
       "    // Return the cell and output element which can be found *uniquely* in the notebook.\n",
       "    // Note - this is a bit hacky, but it is done because the \"notebook_saving.Notebook\"\n",
       "    // IPython event is triggered only after the cells have been serialised, which for\n",
       "    // our purposes (turning an active figure into a static one), is too late.\n",
       "    var cells = IPython.notebook.get_cells();\n",
       "    var ncells = cells.length;\n",
       "    for (var i = 0; i < ncells; i++) {\n",
       "        var cell = cells[i];\n",
       "        if (cell.cell_type === 'code') {\n",
       "            for (var j = 0; j < cell.output_area.outputs.length; j++) {\n",
       "                var data = cell.output_area.outputs[j];\n",
       "                if (data.data) {\n",
       "                    // IPython >= 3 moved mimebundle to data attribute of output\n",
       "                    data = data.data;\n",
       "                }\n",
       "                if (data['text/html'] === html_output) {\n",
       "                    return [cell, data, j];\n",
       "                }\n",
       "            }\n",
       "        }\n",
       "    }\n",
       "};\n",
       "\n",
       "// Register the function which deals with the matplotlib target/channel.\n",
       "// The kernel may be null if the page has been refreshed.\n",
       "if (IPython.notebook.kernel !== null) {\n",
       "    IPython.notebook.kernel.comm_manager.register_target(\n",
       "        'matplotlib',\n",
       "        mpl.mpl_figure_comm\n",
       "    );\n",
       "}\n"
      ],
      "text/plain": [
       "<IPython.core.display.Javascript object>"
      ]
     },
     "metadata": {},
     "output_type": "display_data"
    },
    {
     "data": {
      "text/html": [
       "<img src=\"data:image/png;base64,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\" width=\"576\">"
      ],
      "text/plain": [
       "<IPython.core.display.HTML object>"
      ]
     },
     "metadata": {},
     "output_type": "display_data"
    }
   ],
   "source": [
    "%matplotlib notebook\n",
    "\n",
    "_ = plot_morphology(net,0,rotated=True)"
   ]
  },
  {
   "cell_type": "markdown",
   "metadata": {},
   "source": [
    "Check diameters"
   ]
  },
  {
   "cell_type": "markdown",
   "metadata": {},
   "source": [
    "### Check axial currents"
   ]
  },
  {
   "cell_type": "code",
   "execution_count": 18,
   "metadata": {},
   "outputs": [
    {
     "data": {
      "image/png": "[encoded data removed]",
      "text/plain": [
       "<Figure size 921.6x345.6 with 2 Axes>"
      ]
     },
     "metadata": {
      "needs_background": "light"
     },
     "output_type": "display_data"
    },
    {
     "data": {
      "image/png": "[encoded data removed]",
      "text/plain": [
       "<Figure size 432x288 with 1 Axes>"
      ]
     },
     "metadata": {
      "needs_background": "light"
     },
     "output_type": "display_data"
    },
    {
     "data": {
      "image/png": "[encoded data removed]",
      "text/plain": [
       "<Figure size 432x288 with 1 Axes>"
      ]
     },
     "metadata": {
      "needs_background": "light"
     },
     "output_type": "display_data"
    }
   ],
   "source": [
    "import matplotlib.pyplot as plt\n",
    "%matplotlib inline\n",
    "\n",
    "t = axial_current.t()\n",
    "ac = axial_current.get_current()\n",
    "\n",
    "ac_dend = ac['dend'].T\n",
    "plt.figure(figsize=(12.8, 4.8))\n",
    "plt.subplot(121)\n",
    "plt.plot(t,ac_dend)\n",
    "plt.xlabel('time (ms)')\n",
    "plt.ylabel('Axial current (nA)')\n",
    "plt.title('soma to {} basal dendrites'.format(ac_dend.shape[1]))\n",
    "plt.subplot(122)\n",
    "plt.plot(t,np.mean(ac_dend,axis=1))\n",
    "plt.xlabel('time (ms)')\n",
    "plt.ylabel('Axial current (nA)')\n",
    "plt.title('soma to basal dendrite averaged')\n",
    "plt.show()\n",
    "\n",
    "ac_apic = ac['apic'].T\n",
    "plt.figure()\n",
    "plt.plot(t,ac_apic)\n",
    "plt.xlabel('time (ms)')\n",
    "plt.ylabel('Axial current (nA)')\n",
    "plt.title('soma to apical dendrite')\n",
    "plt.show()\n",
    "\n",
    "ac_axon = ac['axon'].T\n",
    "plt.figure()\n",
    "plt.plot(t,ac_axon)\n",
    "plt.xlabel('time (ms)')\n",
    "plt.ylabel('Axial current (nA)')\n",
    "plt.title('soma to axon')\n",
    "plt.show()"
   ]
  },
  {
   "cell_type": "markdown",
   "metadata": {},
   "source": [
    "### Check Results"
   ]
  },
  {
   "cell_type": "code",
   "execution_count": 19,
   "metadata": {},
   "outputs": [],
   "source": [
    "import h5py\n",
    "import numpy as np\n",
    "import pandas as pd\n",
    "import os\n",
    "\n",
    "outpath = 'sim_details/output/'"
   ]
  },
  {
   "cell_type": "markdown",
   "metadata": {},
   "source": [
    "#### Check membrane voltage"
   ]
  },
  {
   "cell_type": "code",
   "execution_count": 20,
   "metadata": {},
   "outputs": [
    {
     "data": {
      "image/png": "[encoded data removed]",
      "text/plain": [
       "<Figure size 432x288 with 1 Axes>"
      ]
     },
     "metadata": {
      "needs_background": "light"
     },
     "output_type": "display_data"
    }
   ],
   "source": [
    "filename = 'v_report.h5'\n",
    "v_file = outpath + filename\n",
    "v_f = h5py.File(v_file,'r')\n",
    "\n",
    "V = v_f['report/Cell/data'][()]\n",
    "t = np.arange(*v_f['report/Cell/mapping/time']) # array of time\n",
    "\n",
    "import matplotlib.pyplot as plt\n",
    "%matplotlib inline\n",
    "\n",
    "plt.figure()\n",
    "plt.plot(t,V)\n",
    "plt.xlabel('time (ms)')\n",
    "plt.ylabel('membrane voltage (mV)')\n",
    "plt.show()"
   ]
  },
  {
   "cell_type": "markdown",
   "metadata": {},
   "source": [
    "#### Check LFP"
   ]
  },
  {
   "cell_type": "code",
   "execution_count": 21,
   "metadata": {},
   "outputs": [],
   "source": [
    "filename = 'ecp.h5'\n",
    "ecp_file = outpath + filename\n",
    "ecp_f = h5py.File(ecp_file,'r')\n",
    "lfp = ecp_f['ecp/data'][()]\n",
    "t = np.arange(*v_f['report/Cell/mapping/time']) # array of time\n",
    "fs = 1000/v_f['report/Cell/mapping/time'][2]"
   ]
  },
  {
   "cell_type": "code",
   "execution_count": 22,
   "metadata": {},
   "outputs": [],
   "source": [
    "from scipy import signal\n",
    "\n",
    "filt_b,filt_a = signal.butter(2,100,'hp',fs=fs)\n",
    "lfp_filt = signal.lfilter(filt_b,filt_a,lfp,axis=0)"
   ]
  },
  {
   "cell_type": "code",
   "execution_count": 23,
   "metadata": {},
   "outputs": [
    {
     "data": {
      "image/png": "[encoded data removed]",
      "text/plain": [
       "<Figure size 432x288 with 1 Axes>"
      ]
     },
     "metadata": {
      "needs_background": "light"
     },
     "output_type": "display_data"
    },
    {
     "data": {
      "image/png": "[encoded data removed]",
      "text/plain": [
       "<Figure size 432x288 with 1 Axes>"
      ]
     },
     "metadata": {
      "needs_background": "light"
     },
     "output_type": "display_data"
    },
    {
     "data": {
      "text/plain": [
       "Text(0.5, 1.0, 'Filtered LFP')"
      ]
     },
     "execution_count": 23,
     "metadata": {},
     "output_type": "execute_result"
    }
   ],
   "source": [
    "from utils.plotting.plot_results import *\n",
    "\n",
    "idx = (t>=0) & (t<=30)\n",
    "\n",
    "fig,ax = plot_lfp_traces(t[idx],lfp[idx,:],\n",
    "                         fontsize=20,labelpad=0,tick_length=3,nbins=5)\n",
    "ax.set_title('LFP from all electrodes')\n",
    "\n",
    "fig,ax = plot_lfp_traces(t[idx],lfp_filt[idx,:],\n",
    "                         fontsize=20,labelpad=0,tick_length=3,nbins=5)\n",
    "ax.set_title('Filtered LFP')"
   ]
  },
  {
   "cell_type": "code",
   "execution_count": 24,
   "metadata": {},
   "outputs": [
    {
     "name": "stdout",
     "output_type": "stream",
     "text": [
      "Using column at x = -8 um\n"
     ]
    },
    {
     "data": {
      "image/png": "[encoded data removed]",
      "text/plain": [
       "<Figure size 432x288 with 2 Axes>"
      ]
     },
     "metadata": {
      "needs_background": "light"
     },
     "output_type": "display_data"
    }
   ],
   "source": [
    "window = 4.4\n",
    "tstart = 12.7\n",
    "# tstart = 10.5 # no basal\n",
    "idx = (t>=tstart) & (t<=tstart+window)\n",
    "\n",
    "vlim = 'auto'\n",
    "# vlim = [-0.0005,0.0005]\n",
    "ylim = [-200,800]\n",
    "\n",
    "x_dist = np.unique(elec_pos[:,0])\n",
    "ix = 1\n",
    "e_idx = (elec_pos[:,0]==x_dist[ix]) & (elec_pos[:,1]>=ylim[0]) & (elec_pos[:,1]<=ylim[1])\n",
    "print('Using column at x = %g um' % (x_dist[ix]))\n",
    "\n",
    "fig,ax = plot_lfp_heatmap(t[idx],elec_pos[e_idx, 1],\n",
    "                          lfp_filt[idx][:, e_idx],vlim=vlim,\n",
    "                          fontsize=20,labelpad=0,ticksize=10,nbins=5)"
   ]
  },
  {
   "cell_type": "markdown",
   "metadata": {},
   "source": [
    "Save to h5 file"
   ]
  },
  {
   "cell_type": "code",
   "execution_count": 25,
   "metadata": {},
   "outputs": [],
   "source": [
    "lfp_file_name = 'lfp_result/' + model_name + '_h' + str(h) + '.h5'\n",
    "hf = h5py.File(lfp_file_name, 'w')\n",
    "hf.attrs['dt'] = sim.dt\n",
    "hf.create_dataset('data',data=lfp_filt)\n",
    "for dend,AC in ac.items():\n",
    "    hf.create_dataset('axial_current/'+dend,data=AC)\n",
    "hf.close()"
   ]
  },
  {
   "cell_type": "code",
   "execution_count": null,
   "metadata": {},
   "outputs": [],
   "source": []
  }
 ],
 "metadata": {
  "kernelspec": {
   "display_name": "Python 3 (ipykernel)",
   "language": "python",
   "name": "python3"
  },
  "language_info": {
   "codemirror_mode": {
    "name": "ipython",
    "version": 3
   },
   "file_extension": ".py",
   "mimetype": "text/x-python",
   "name": "python",
   "nbconvert_exporter": "python",
   "pygments_lexer": "ipython3",
   "version": "3.7.4"
  }
 },
 "nbformat": 4,
 "nbformat_minor": 2
}
